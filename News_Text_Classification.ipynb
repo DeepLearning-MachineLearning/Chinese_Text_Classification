{
 "cells": [
  {
   "cell_type": "code",
   "execution_count": 356,
   "metadata": {},
   "outputs": [],
   "source": [
    "import os\n",
    "import re\n",
    "import shutil\n",
    "import jieba\n",
    "jieba.enable_parallel() # jieba支持多进程\n",
    "import time\n",
    "import numpy as np"
   ]
  },
  {
   "cell_type": "code",
   "execution_count": 8,
   "metadata": {},
   "outputs": [],
   "source": [
    "category_labels = {\n",
    "    'C000008': '_08_Finance',\n",
    "    'C000010': '_10_IT',\n",
    "    'C000013': '_13_Health',\n",
    "    'C000014': '_14_Sports',\n",
    "    'C000016': '_16_Travel',\n",
    "    'C000020': '_20_Education',\n",
    "    'C000022': '_22_Recruit',\n",
    "    'C000023': '_23_Culture',\n",
    "    'C000024': '_24_Military'\n",
    "}"
   ]
  },
  {
   "cell_type": "code",
   "execution_count": 23,
   "metadata": {},
   "outputs": [],
   "source": [
    "token = \"[0-9\\s+\\.\\!\\/_,$%^*()?;；：【】+\\\"\\'\\[\\]\\\\]+|[+——！，;:。？《》、~@#￥%……&*（）“”.=-]+\"\n",
    "stopwords = set(open('dict/stop_words.txt', encoding='utf-8').read().split()) # 停用词"
   ]
  },
  {
   "cell_type": "markdown",
   "metadata": {},
   "source": [
    "# 基于scikit-learn机器学习的文本分类方法\n",
    "## 语料预处理"
   ]
  },
  {
   "cell_type": "code",
   "execution_count": 22,
   "metadata": {
    "scrolled": true
   },
   "outputs": [
    {
     "name": "stdout",
     "output_type": "stream",
     "text": [
      "cate: C000008, len: 1990\n",
      "dst_dir: data/train/_08_Finance, len: 1500\n",
      "dst_dir: data/test/_08_Finance, len: 490\n",
      "cate: C000014, len: 1990\n",
      "dst_dir: data/train/_14_Sports, len: 1500\n",
      "dst_dir: data/test/_14_Sports, len: 490\n",
      "cate: C000013, len: 1990\n",
      "dst_dir: data/train/_13_Health, len: 1500\n",
      "dst_dir: data/test/_13_Health, len: 490\n",
      "cate: C000022, len: 1990\n",
      "dst_dir: data/train/_22_Recruit, len: 1500\n",
      "dst_dir: data/test/_22_Recruit, len: 490\n",
      "cate: C000023, len: 1990\n",
      "dst_dir: data/train/_23_Culture, len: 1500\n",
      "dst_dir: data/test/_23_Culture, len: 490\n",
      "cate: C000024, len: 1990\n",
      "dst_dir: data/train/_24_Military, len: 1500\n",
      "dst_dir: data/test/_24_Military, len: 490\n",
      "cate: C000010, len: 1990\n",
      "dst_dir: data/train/_10_IT, len: 1500\n",
      "dst_dir: data/test/_10_IT, len: 490\n",
      "cate: C000020, len: 1990\n",
      "dst_dir: data/train/_20_Education, len: 1500\n",
      "dst_dir: data/test/_20_Education, len: 490\n",
      "cate: C000016, len: 1990\n",
      "dst_dir: data/train/_16_Travel, len: 1500\n",
      "dst_dir: data/test/_16_Travel, len: 490\n",
      "Corpus split DONE.\n"
     ]
    }
   ],
   "source": [
    "# original data directory\n",
    "original_dataset_dir = './CN_Corpus'\n",
    "base_dir = 'data/'\n",
    "\n",
    "# make new folders\n",
    "os.mkdir(base_dir)\n",
    "train_dir = os.path.join(base_dir, 'train')\n",
    "os.mkdir(train_dir)\n",
    "test_dir = os.path.join(base_dir, 'test')\n",
    "os.mkdir(test_dir)\n",
    "\n",
    "# split corpus\n",
    "for cate in os.listdir(original_dataset_dir):\n",
    "    cate_dir = os.path.join(original_dataset_dir, cate)\n",
    "    file_list = os.listdir(cate_dir)\n",
    "    print(\"cate: {}, len: {}\".format(cate, len(file_list)))\n",
    "\n",
    "    # train data\n",
    "    fnames = file_list[:1500] \n",
    "    dst_dir = os.path.join(train_dir, category_labels[cate])\n",
    "    os.mkdir(dst_dir)\n",
    "    print(\"dst_dir: {}, len: {}\".format(dst_dir, len(fnames)))\n",
    "    for fname in fnames:\n",
    "        src = os.path.join(cate_dir, fname)\n",
    "        dst = os.path.join(dst_dir, fname)\n",
    "        shutil.copyfile(src, dst)\n",
    "\n",
    "    # test data\n",
    "    fnames = file_list[1500:] \n",
    "    dst_dir = os.path.join(test_dir, category_labels[cate])\n",
    "    os.mkdir(dst_dir)\n",
    "    print(\"dst_dir: {}, len: {}\".format(dst_dir, len(fnames)))\n",
    "    for fname in fnames:\n",
    "        src = os.path.join(cate_dir, fname)\n",
    "        dst = os.path.join(dst_dir, fname)\n",
    "        shutil.copyfile(src, dst)\n",
    "print('Corpus split DONE.')"
   ]
  },
  {
   "cell_type": "markdown",
   "metadata": {},
   "source": [
    "## 划分训练集与测试集"
   ]
  },
  {
   "cell_type": "code",
   "execution_count": 3,
   "metadata": {},
   "outputs": [],
   "source": [
    "def preprocess(text):\n",
    "    text1 = re.sub('&nbsp', ' ', text)\n",
    "    str_no_punctuation = re.sub(token, ' ', text1)  # 去掉标点\n",
    "    text_list = list(jieba.cut(str_no_punctuation))   # 分词列表\n",
    "    text_list = [item for item in text_list if item != ' '] # 去掉空格\n",
    "    return ' '.join(text_list)"
   ]
  },
  {
   "cell_type": "code",
   "execution_count": null,
   "metadata": {},
   "outputs": [],
   "source": [
    "def load_datasets():\n",
    "    base_dir = 'data/'\n",
    "    X_data = {'train':[], 'test':[]}\n",
    "    y = {'train':[], 'test':[]}\n",
    "    for type_name in ['train', 'test']:\n",
    "        corpus_dir = os.path.join(base_dir, type_name)\n",
    "        for label in os.listdir(corpus_dir):\n",
    "            label_dir = os.path.join(corpus_dir, label)\n",
    "            file_list = os.listdir(label_dir)\n",
    "            print(\"label: {}, len: {}\".format(label, len(file_list)))\n",
    "\n",
    "            for fname in file_list:\n",
    "                file_path = os.path.join(label_dir, fname)\n",
    "                with open(file_path, encoding='gb2312', errors='ignore') as text_file:\n",
    "                    text_content = preprocess(text_file.read())\n",
    "                X_data[type_name].append(text_content)\n",
    "                y[type_name].append(label)\n",
    "\n",
    "        print(\"{} corpus len: {}\\n\".format(type_name, len(X_data[type_name])))\n",
    "    \n",
    "    return X_data['train'], y['train'], X_data['test'], y['test']"
   ]
  },
  {
   "cell_type": "code",
   "execution_count": 75,
   "metadata": {
    "scrolled": true
   },
   "outputs": [
    {
     "name": "stdout",
     "output_type": "stream",
     "text": [
      "label: _16_Travel, len: 1500\n",
      "label: _13_Health, len: 1500\n",
      "label: _23_Culture, len: 1500\n",
      "label: _20_Education, len: 1500\n",
      "label: _08_Finance, len: 1500\n",
      "label: _22_Recruit, len: 1500\n",
      "label: _10_IT, len: 1500\n",
      "label: _14_Sports, len: 1500\n",
      "label: _24_Military, len: 1500\n",
      "train corpus len: 13500\n",
      "\n",
      "label: _16_Travel, len: 490\n",
      "label: _13_Health, len: 490\n",
      "label: _23_Culture, len: 490\n",
      "label: _20_Education, len: 490\n",
      "label: _08_Finance, len: 490\n",
      "label: _22_Recruit, len: 490\n",
      "label: _10_IT, len: 490\n",
      "label: _14_Sports, len: 490\n",
      "label: _24_Military, len: 490\n",
      "test corpus len: 4410\n",
      "\n"
     ]
    }
   ],
   "source": [
    "X_train_data, y_train, X_test_data, y_test = load_datasets()"
   ]
  },
  {
   "cell_type": "code",
   "execution_count": 194,
   "metadata": {
    "scrolled": true
   },
   "outputs": [
    {
     "data": {
      "text/plain": [
       "('四月 物语 ― ― 暗恋 一种 幸福 寂寞 樱花 飘落 骑着 单车 寂寞 日常生活 上学 买 书 电影 做饭 这是 岩井 四月 物语 榆野 那种 富于 教养 略带 拘谨 羞涩 爱 孤独 中 沉静 姿态 零碎 单调 音乐 静静 流淌 爱 驱动力 强大 寂寂 无名 榆野 见到 心仪 对象 考取 著名 大学 称之为 爱 奇迹 细节 中规中矩 一丝不苟 少女 内心 投射 回忆 幸福 预谋 无意识 中 发生 一点点 矜持 悸动 分 巨细 表达出来 一部 无微不至 影音 日志 如诗如画 平淡 生活 场景 中 一种 感觉 抛弃 纷繁 芜杂 喧嚣 吵闹 留给 明净 四月 天空 一页 一页',\n",
       " '_23_Culture')"
      ]
     },
     "execution_count": 194,
     "metadata": {},
     "output_type": "execute_result"
    }
   ],
   "source": [
    "X_train_data[3000], y_train[3000]"
   ]
  },
  {
   "cell_type": "code",
   "execution_count": 83,
   "metadata": {},
   "outputs": [],
   "source": [
    "from wordcloud import WordCloud\n",
    "import matplotlib.pyplot as plt"
   ]
  },
  {
   "cell_type": "code",
   "execution_count": 195,
   "metadata": {},
   "outputs": [],
   "source": [
    "wordcloud = WordCloud(scale=4,\n",
    "                      font_path='simhei.ttf',\n",
    "                      background_color='white',\n",
    "                      max_words = 100,\n",
    "                      max_font_size = 60,\n",
    "                      random_state=20).generate(X_train_data[3000])"
   ]
  },
  {
   "cell_type": "code",
   "execution_count": 196,
   "metadata": {
    "scrolled": true
   },
   "outputs": [
    {
     "data": {
      "text/plain": [
       "(-0.5, 1599.5, 799.5, -0.5)"
      ]
     },
     "execution_count": 196,
     "metadata": {},
     "output_type": "execute_result"
    },
    {
     "data": {
      "image/png": "[encoded data removed]",
      "text/plain": [
       "<Figure size 432x288 with 1 Axes>"
      ]
     },
     "metadata": {
      "needs_background": "light"
     },
     "output_type": "display_data"
    }
   ],
   "source": [
    "plt.imshow(wordcloud, interpolation='bilinear')\n",
    "plt.axis('off')"
   ]
  },
  {
   "cell_type": "markdown",
   "metadata": {},
   "source": [
    "## TF-IDF文本特征提取"
   ]
  },
  {
   "cell_type": "code",
   "execution_count": 88,
   "metadata": {},
   "outputs": [],
   "source": [
    "from sklearn.pipeline import Pipeline\n",
    "from sklearn.feature_extraction.text import TfidfVectorizer\n",
    "from sklearn.naive_bayes import MultinomialNB\n",
    "from sklearn.linear_model import LogisticRegression, SGDClassifier\n",
    "from sklearn.metrics import classification_report, confusion_matrix"
   ]
  },
  {
   "cell_type": "code",
   "execution_count": 89,
   "metadata": {},
   "outputs": [],
   "source": [
    "# TF-IDF feature extraction\n",
    "tfidf_vectorizer = TfidfVectorizer(stop_words=stopwords)\n",
    "X_train_tfidf = tfidf_vectorizer.fit_transform(X_train_data)\n",
    "words = tfidf_vectorizer.get_feature_names()"
   ]
  },
  {
   "cell_type": "code",
   "execution_count": 355,
   "metadata": {
    "scrolled": true
   },
   "outputs": [
    {
     "data": {
      "text/plain": [
       "['龙腾渊',\n",
       " '龙腾路',\n",
       " '龙舌兰',\n",
       " '龙舞',\n",
       " '龙舟',\n",
       " '龙舟节',\n",
       " '龙舟赛',\n",
       " '龙船',\n",
       " '龙船调',\n",
       " '龙节',\n",
       " '龙芯',\n",
       " '龙苗',\n",
       " '龙葵',\n",
       " '龙虎',\n",
       " '龙虎山',\n",
       " '龙虎斗',\n",
       " '龙虎榜',\n",
       " '龙虾',\n",
       " '龙蛇混杂',\n",
       " '龙蟠',\n",
       " '龙蟠路',\n",
       " '龙袍',\n",
       " '龙袜',\n",
       " '龙说',\n",
       " '龙象',\n",
       " '龙财',\n",
       " '龙超峰',\n",
       " '龙道畴',\n",
       " '龙钟老态',\n",
       " '龙门',\n",
       " '龙门客栈',\n",
       " '龙门山',\n",
       " '龙门石窟',\n",
       " '龙门阵',\n",
       " '龙阳',\n",
       " '龙阳路',\n",
       " '龙隐寺',\n",
       " '龙青雾',\n",
       " '龙韬',\n",
       " '龙音',\n",
       " '龙顶冈',\n",
       " '龙须面',\n",
       " '龙颜',\n",
       " '龙颜大悦',\n",
       " '龙飞',\n",
       " '龙飞凤舞',\n",
       " '龙饰',\n",
       " '龙首',\n",
       " '龙马',\n",
       " '龙骑士',\n",
       " '龙骧',\n",
       " '龙骨',\n",
       " '龙魂',\n",
       " '龙鱼',\n",
       " '龙鳞饼',\n",
       " '龙齿',\n",
       " '龚伟',\n",
       " '龚传文',\n",
       " '龚先生',\n",
       " '龚古尔',\n",
       " '龚喜燕',\n",
       " '龚嘴',\n",
       " '龚在',\n",
       " '龚妍奇',\n",
       " '龚家',\n",
       " '龚小莉',\n",
       " '龚常',\n",
       " '龚建国',\n",
       " '龚开',\n",
       " '龚强',\n",
       " '龚扇',\n",
       " '龚文标',\n",
       " '龚断',\n",
       " '龚方雄',\n",
       " '龚明俊',\n",
       " '龚晓犁',\n",
       " '龚晓跃',\n",
       " '龚杰',\n",
       " '龚松林',\n",
       " '龚某',\n",
       " '龚湘',\n",
       " '龚自珍',\n",
       " '龚虹嘉',\n",
       " '龚谷成',\n",
       " '龚震林',\n",
       " '龚静',\n",
       " '龟兹王',\n",
       " '龟凤汤',\n",
       " '龟城',\n",
       " '龟头',\n",
       " '龟山',\n",
       " '龟岛',\n",
       " '龟文',\n",
       " '龟板',\n",
       " '龟田',\n",
       " '龟缩',\n",
       " '龟背',\n",
       " '龟蛇同',\n",
       " '龟裂',\n",
       " '龟鳖']"
      ]
     },
     "execution_count": 355,
     "metadata": {},
     "output_type": "execute_result"
    }
   ],
   "source": [
    "words[-100:]"
   ]
  },
  {
   "cell_type": "markdown",
   "metadata": {},
   "source": [
    "## 构建分类器\n",
    "### 朴素贝叶斯分类器MultinomialNB"
   ]
  },
  {
   "cell_type": "code",
   "execution_count": 125,
   "metadata": {
    "scrolled": true
   },
   "outputs": [
    {
     "name": "stdout",
     "output_type": "stream",
     "text": [
      "CPU times: user 4.4 s, sys: 134 ms, total: 4.54 s\n",
      "Wall time: 4 s\n"
     ]
    },
    {
     "data": {
      "text/plain": [
       "Pipeline(memory=None,\n",
       "         steps=[('vect',\n",
       "                 TfidfVectorizer(analyzer='word', binary=False,\n",
       "                                 decode_error='strict',\n",
       "                                 dtype=<class 'numpy.float64'>,\n",
       "                                 encoding='utf-8', input='content',\n",
       "                                 lowercase=True, max_df=1.0, max_features=None,\n",
       "                                 min_df=1, ngram_range=(1, 1), norm='l2',\n",
       "                                 preprocessor=None, smooth_idf=True,\n",
       "                                 stop_words=None, strip_accents=None,\n",
       "                                 sublinear_tf=False,\n",
       "                                 token_pattern='(?u)\\\\b\\\\w\\\\w+\\\\b',\n",
       "                                 tokenizer=None, use_idf=True,\n",
       "                                 vocabulary=None)),\n",
       "                ('clf',\n",
       "                 MultinomialNB(alpha=1.0, class_prior=None, fit_prior=True))],\n",
       "         verbose=False)"
      ]
     },
     "execution_count": 125,
     "metadata": {},
     "output_type": "execute_result"
    }
   ],
   "source": [
    "# Pipeline\n",
    "mnb_clf = Pipeline([\n",
    "    ('vect', TfidfVectorizer()),\n",
    "    ('clf', MultinomialNB()),\n",
    "])\n",
    "\n",
    "%time mnb_clf.fit(X_train_data, y_train)"
   ]
  },
  {
   "cell_type": "code",
   "execution_count": 182,
   "metadata": {},
   "outputs": [
    {
     "data": {
      "text/plain": [
       "0.8741496598639455"
      ]
     },
     "execution_count": 182,
     "metadata": {},
     "output_type": "execute_result"
    }
   ],
   "source": [
    "mnb_score = mnb_clf.score(X_test_data, y_test)\n",
    "mnb_score"
   ]
  },
  {
   "cell_type": "code",
   "execution_count": 126,
   "metadata": {},
   "outputs": [
    {
     "name": "stdout",
     "output_type": "stream",
     "text": [
      "               precision    recall  f1-score   support\n",
      "\n",
      "  _08_Finance       0.88      0.90      0.89       477\n",
      "       _10_IT       0.81      0.87      0.84       461\n",
      "   _13_Health       0.82      0.90      0.86       451\n",
      "   _14_Sports       0.98      1.00      0.99       480\n",
      "   _16_Travel       0.89      0.91      0.90       480\n",
      "_20_Education       0.84      0.87      0.85       472\n",
      "  _22_Recruit       0.90      0.73      0.80       606\n",
      "  _23_Culture       0.80      0.83      0.82       476\n",
      " _24_Military       0.94      0.91      0.92       507\n",
      "\n",
      "     accuracy                           0.87      4410\n",
      "    macro avg       0.87      0.88      0.87      4410\n",
      " weighted avg       0.88      0.87      0.87      4410\n",
      "\n"
     ]
    }
   ],
   "source": [
    "y_pre_mnb = text_clf.predict(X_test_data)\n",
    "print(classification_report(y_pre_mnb, y_test))"
   ]
  },
  {
   "cell_type": "code",
   "execution_count": 127,
   "metadata": {},
   "outputs": [
    {
     "data": {
      "text/plain": [
       "array([[429,  18,  10,   2,   4,   3,   3,   7,   1],\n",
       "       [ 31, 399,   7,   5,   7,   3,   5,   4,   0],\n",
       "       [  3,   9, 404,   0,   5,   9,  10,  10,   1],\n",
       "       [  0,   1,   0, 478,   0,   0,   0,   1,   0],\n",
       "       [  4,  13,   1,   1, 438,   3,   5,  14,   1],\n",
       "       [  3,  10,   6,   2,   2, 411,  18,  10,  10],\n",
       "       [  7,  17,  57,   2,   8,  44, 441,  29,   1],\n",
       "       [  7,   9,   5,   0,  23,  15,   8, 394,  15],\n",
       "       [  6,  14,   0,   0,   3,   2,   0,  21, 461]])"
      ]
     },
     "execution_count": 127,
     "metadata": {},
     "output_type": "execute_result"
    }
   ],
   "source": [
    "confusion_matrix(y_pre_mnb, y_test)"
   ]
  },
  {
   "cell_type": "markdown",
   "metadata": {},
   "source": [
    "### 逻辑回归LR"
   ]
  },
  {
   "cell_type": "code",
   "execution_count": 130,
   "metadata": {
    "scrolled": true
   },
   "outputs": [
    {
     "name": "stderr",
     "output_type": "stream",
     "text": [
      "/Users/aeternae/anaconda3/envs/tf1/lib/python3.6/site-packages/sklearn/linear_model/logistic.py:432: FutureWarning: Default solver will be changed to 'lbfgs' in 0.22. Specify a solver to silence this warning.\n",
      "  FutureWarning)\n",
      "/Users/aeternae/anaconda3/envs/tf1/lib/python3.6/site-packages/sklearn/linear_model/logistic.py:469: FutureWarning: Default multi_class will be changed to 'auto' in 0.22. Specify the multi_class option to silence this warning.\n",
      "  \"this warning.\", FutureWarning)\n"
     ]
    },
    {
     "name": "stdout",
     "output_type": "stream",
     "text": [
      "CPU times: user 20.9 s, sys: 305 ms, total: 21.2 s\n",
      "Wall time: 8.16 s\n"
     ]
    },
    {
     "data": {
      "text/plain": [
       "Pipeline(memory=None,\n",
       "         steps=[('vect',\n",
       "                 TfidfVectorizer(analyzer='word', binary=False,\n",
       "                                 decode_error='strict',\n",
       "                                 dtype=<class 'numpy.float64'>,\n",
       "                                 encoding='utf-8', input='content',\n",
       "                                 lowercase=True, max_df=1.0, max_features=None,\n",
       "                                 min_df=1, ngram_range=(1, 1), norm='l2',\n",
       "                                 preprocessor=None, smooth_idf=True,\n",
       "                                 stop_words=None, strip_accents=None,\n",
       "                                 sublinear_tf=False,\n",
       "                                 token_pattern='(?u)\\\\b\\\\w\\\\w+\\\\b',\n",
       "                                 tokenizer=None, use_idf=True,\n",
       "                                 vocabulary=None)),\n",
       "                ('clf',\n",
       "                 LogisticRegression(C=1.0, class_weight=None, dual=False,\n",
       "                                    fit_intercept=True, intercept_scaling=1,\n",
       "                                    l1_ratio=None, max_iter=100,\n",
       "                                    multi_class='warn', n_jobs=None,\n",
       "                                    penalty='l2', random_state=None,\n",
       "                                    solver='warn', tol=0.0001, verbose=0,\n",
       "                                    warm_start=False))],\n",
       "         verbose=False)"
      ]
     },
     "execution_count": 130,
     "metadata": {},
     "output_type": "execute_result"
    }
   ],
   "source": [
    "# Logistic Regression\n",
    "lr_clf = Pipeline([\n",
    "    ('vect', TfidfVectorizer()),\n",
    "    ('clf', LogisticRegression()),\n",
    "])\n",
    "\n",
    "%time lr_clf.fit(X_train_data, y_train)"
   ]
  },
  {
   "cell_type": "code",
   "execution_count": 183,
   "metadata": {},
   "outputs": [
    {
     "data": {
      "text/plain": [
       "0.898639455782313"
      ]
     },
     "execution_count": 183,
     "metadata": {},
     "output_type": "execute_result"
    }
   ],
   "source": [
    "lr_score = lr_clf.score(X_test_data, y_test)\n",
    "lr_score"
   ]
  },
  {
   "cell_type": "code",
   "execution_count": 138,
   "metadata": {},
   "outputs": [
    {
     "name": "stdout",
     "output_type": "stream",
     "text": [
      "               precision    recall  f1-score   support\n",
      "\n",
      "  _08_Finance       0.86      0.94      0.90       451\n",
      "       _10_IT       0.86      0.87      0.86       484\n",
      "   _13_Health       0.91      0.90      0.90       496\n",
      "   _14_Sports       0.98      0.99      0.99       485\n",
      "   _16_Travel       0.91      0.92      0.91       484\n",
      "_20_Education       0.86      0.91      0.88       464\n",
      "  _22_Recruit       0.88      0.87      0.88       495\n",
      "  _23_Culture       0.87      0.77      0.82       552\n",
      " _24_Military       0.96      0.94      0.95       499\n",
      "\n",
      "     accuracy                           0.90      4410\n",
      "    macro avg       0.90      0.90      0.90      4410\n",
      " weighted avg       0.90      0.90      0.90      4410\n",
      "\n"
     ]
    }
   ],
   "source": [
    "y_pre_lr = lr_clf.predict(X_test_data)\n",
    "print(classification_report(y_pre_lr, y_test))"
   ]
  },
  {
   "cell_type": "code",
   "execution_count": 141,
   "metadata": {},
   "outputs": [
    {
     "data": {
      "text/plain": [
       "array([[422,  10,   7,   0,   3,   3,   2,   4,   0],\n",
       "       [ 38, 421,   7,   4,   2,   3,   6,   3,   0],\n",
       "       [  5,   9, 445,   0,   6,  11,  11,   8,   1],\n",
       "       [  0,   2,   0, 482,   1,   0,   0,   0,   0],\n",
       "       [  6,  11,   3,   1, 445,   3,   5,   9,   1],\n",
       "       [  0,  10,   4,   0,   2, 422,  12,  12,   2],\n",
       "       [  3,   5,  16,   1,   2,  26, 431,  11,   0],\n",
       "       [  9,  15,   8,   2,  28,  22,  23, 427,  18],\n",
       "       [  7,   7,   0,   0,   1,   0,   0,  16, 468]])"
      ]
     },
     "execution_count": 141,
     "metadata": {},
     "output_type": "execute_result"
    }
   ],
   "source": [
    "confusion_matrix(y_pre_lr, y_test)"
   ]
  },
  {
   "cell_type": "markdown",
   "metadata": {},
   "source": [
    "### SVM"
   ]
  },
  {
   "cell_type": "code",
   "execution_count": 143,
   "metadata": {
    "scrolled": true
   },
   "outputs": [
    {
     "name": "stdout",
     "output_type": "stream",
     "text": [
      "CPU times: user 7.2 s, sys: 142 ms, total: 7.34 s\n",
      "Wall time: 4.71 s\n"
     ]
    },
    {
     "data": {
      "text/plain": [
       "Pipeline(memory=None,\n",
       "         steps=[('vect',\n",
       "                 TfidfVectorizer(analyzer='word', binary=False,\n",
       "                                 decode_error='strict',\n",
       "                                 dtype=<class 'numpy.float64'>,\n",
       "                                 encoding='utf-8', input='content',\n",
       "                                 lowercase=True, max_df=1.0, max_features=None,\n",
       "                                 min_df=1, ngram_range=(1, 1), norm='l2',\n",
       "                                 preprocessor=None, smooth_idf=True,\n",
       "                                 stop_words=None, strip_accents=None,\n",
       "                                 sublinear_tf=False,\n",
       "                                 token_pattern='(...\n",
       "                 SGDClassifier(alpha=0.0001, average=False, class_weight=None,\n",
       "                               early_stopping=False, epsilon=0.1, eta0=0.0,\n",
       "                               fit_intercept=True, l1_ratio=0.15,\n",
       "                               learning_rate='optimal', loss='hinge',\n",
       "                               max_iter=1000, n_iter_no_change=5, n_jobs=None,\n",
       "                               penalty='l2', power_t=0.5, random_state=None,\n",
       "                               shuffle=True, tol=0.001, validation_fraction=0.1,\n",
       "                               verbose=0, warm_start=False))],\n",
       "         verbose=False)"
      ]
     },
     "execution_count": 143,
     "metadata": {},
     "output_type": "execute_result"
    }
   ],
   "source": [
    "# SVM\n",
    "svm_clf = Pipeline([\n",
    "    ('vect', TfidfVectorizer()),\n",
    "    ('clf', SGDClassifier(loss='hinge', penalty='l2')),\n",
    "])\n",
    "\n",
    "%time svm_clf.fit(X_train_data, y_train)"
   ]
  },
  {
   "cell_type": "code",
   "execution_count": 184,
   "metadata": {},
   "outputs": [
    {
     "data": {
      "text/plain": [
       "0.9183673469387755"
      ]
     },
     "execution_count": 184,
     "metadata": {},
     "output_type": "execute_result"
    }
   ],
   "source": [
    "svm_score = svm_clf.score(X_test_data, y_test)\n",
    "svm_score"
   ]
  },
  {
   "cell_type": "code",
   "execution_count": 167,
   "metadata": {},
   "outputs": [
    {
     "name": "stdout",
     "output_type": "stream",
     "text": [
      "               precision    recall  f1-score   support\n",
      "\n",
      "  _08_Finance       0.87      0.95      0.91       449\n",
      "       _10_IT       0.86      0.89      0.88       474\n",
      "   _13_Health       0.92      0.91      0.92       495\n",
      "   _14_Sports       1.00      0.99      0.99       493\n",
      "   _16_Travel       0.94      0.92      0.93       501\n",
      "_20_Education       0.88      0.92      0.90       472\n",
      "  _22_Recruit       0.93      0.89      0.91       515\n",
      "  _23_Culture       0.89      0.85      0.87       512\n",
      " _24_Military       0.96      0.95      0.95       499\n",
      "\n",
      "     accuracy                           0.92      4410\n",
      "    macro avg       0.92      0.92      0.92      4410\n",
      " weighted avg       0.92      0.92      0.92      4410\n",
      "\n"
     ]
    }
   ],
   "source": [
    "y_pre_svm = svm_clf.predict(X_test_data)\n",
    "print(classification_report(y_pre_svm, y_test))"
   ]
  },
  {
   "cell_type": "code",
   "execution_count": 169,
   "metadata": {},
   "outputs": [
    {
     "data": {
      "text/plain": [
       "array([[428,   8,   3,   0,   3,   4,   2,   1,   0],\n",
       "       [ 33, 423,   5,   1,   2,   3,   4,   3,   0],\n",
       "       [  5,  10, 452,   0,   5,   9,   6,   7,   1],\n",
       "       [  0,   2,   1, 488,   1,   1,   0,   0,   0],\n",
       "       [  5,  10,   2,   1, 463,   2,   4,  13,   1],\n",
       "       [  1,  12,   7,   0,   2, 432,   4,  12,   2],\n",
       "       [  3,   6,  13,   0,   1,  23, 457,  12,   0],\n",
       "       [  7,  10,   5,   0,  12,  16,  13, 435,  14],\n",
       "       [  8,   9,   2,   0,   1,   0,   0,   7, 472]])"
      ]
     },
     "execution_count": 169,
     "metadata": {},
     "output_type": "execute_result"
    }
   ],
   "source": [
    "confusion_matrix(y_pre_svm, y_test)"
   ]
  },
  {
   "cell_type": "markdown",
   "metadata": {},
   "source": [
    "## 模型评估与比较"
   ]
  },
  {
   "cell_type": "code",
   "execution_count": 175,
   "metadata": {},
   "outputs": [],
   "source": [
    "news_lastest = [\"8月27日晚间，北京首钢篮球俱乐部官方宣布，正式与美籍华裔球员林书豪签约，林书豪将以外援身份，代表北京首钢队参加CBA联赛。同一时间，林书豪也在微博宣布：北京，我来了。过去9年时间里，华人林书豪在NBA经历了跌宕起伏的篮球生涯。从哈佛小子，到首位进入NBA的美籍华裔球员，再到千万身家的“林疯狂……与此同时，林书豪在国内获得了远高于在NBA的关注。\",\n",
    "                \"在25日举行的七国工业国集团（G7）峰会上，美国总统特朗普在谈及朝鲜问题时重申近期朝鲜试射武器未违反协定，并指美韩军演是浪费金钱。据路透社报道，特朗普25日在与日本首相安倍晋三举行会谈时，谈及朝鲜问题。特朗普称他对朝鲜多次试射感到不满，但称发射“不违反任何协定”。\",\n",
    "                \"8月14日，清华大学交叉信息院正式迎来了85名九字班新生。根据其官网的名单公示：今年5月18日校园开放日宣布成立的人工智能学堂班（简称智班）已完成了首次选拔，共录取30人。共有55名新生入学姚班。\"]\n",
    "X_new_data = [preprocess(doc) for doc in news_lastest]"
   ]
  },
  {
   "cell_type": "code",
   "execution_count": 174,
   "metadata": {},
   "outputs": [
    {
     "data": {
      "text/plain": [
       "array(['_14_Sports', '_24_Military', '_20_Education'], dtype='<U13')"
      ]
     },
     "execution_count": 174,
     "metadata": {},
     "output_type": "execute_result"
    }
   ],
   "source": [
    "mnb_clf.predict(X_new_data)"
   ]
  },
  {
   "cell_type": "code",
   "execution_count": 177,
   "metadata": {},
   "outputs": [
    {
     "data": {
      "text/plain": [
       "array(['_14_Sports', '_24_Military', '_20_Education'], dtype='<U13')"
      ]
     },
     "execution_count": 177,
     "metadata": {},
     "output_type": "execute_result"
    }
   ],
   "source": [
    "lr_clf.predict(X_new_data)"
   ]
  },
  {
   "cell_type": "code",
   "execution_count": 178,
   "metadata": {},
   "outputs": [
    {
     "data": {
      "text/plain": [
       "array(['_14_Sports', '_24_Military', '_14_Sports'], dtype='<U13')"
      ]
     },
     "execution_count": 178,
     "metadata": {},
     "output_type": "execute_result"
    }
   ],
   "source": [
    "svm_clf.predict(X_new_data)"
   ]
  },
  {
   "cell_type": "code",
   "execution_count": 192,
   "metadata": {},
   "outputs": [
    {
     "data": {
      "text/plain": [
       "(0.85, 0.92)"
      ]
     },
     "execution_count": 192,
     "metadata": {},
     "output_type": "execute_result"
    },
    {
     "data": {
      "image/png": "[encoded data removed]",
      "text/plain": [
       "<Figure size 432x288 with 1 Axes>"
      ]
     },
     "metadata": {
      "needs_background": "light"
     },
     "output_type": "display_data"
    }
   ],
   "source": [
    "x_clf = ['mnb_clf', 'lr_clf', 'svm_clf']\n",
    "y_clf = [mnb_score, lr_score, svm_score]\n",
    "plt.bar(x_clf, y_clf)\n",
    "plt.ylim(0.85, 0.92)"
   ]
  },
  {
   "cell_type": "markdown",
   "metadata": {},
   "source": [
    "# 基于神经网络模型的文本分类方法"
   ]
  },
  {
   "cell_type": "code",
   "execution_count": 197,
   "metadata": {},
   "outputs": [
    {
     "name": "stderr",
     "output_type": "stream",
     "text": [
      "Using TensorFlow backend.\n"
     ]
    }
   ],
   "source": [
    "from keras.preprocessing.text import Tokenizer\n",
    "from keras.preprocessing.sequence import pad_sequences\n",
    "from keras.utils import to_categorical\n",
    "from keras.models import Sequential, Model\n",
    "from keras.layers import Dense, Flatten, Embedding, Input"
   ]
  },
  {
   "cell_type": "markdown",
   "metadata": {},
   "source": [
    "## 语料读取"
   ]
  },
  {
   "cell_type": "code",
   "execution_count": 198,
   "metadata": {},
   "outputs": [],
   "source": [
    "def preprocess_keras(text):\n",
    "    text1 = re.sub('&nbsp', ' ', text)\n",
    "    str_no_punctuation = re.sub(token, ' ', text1)  # 去掉标点\n",
    "    text_list = list(jieba.cut(str_no_punctuation))   # 分词列表\n",
    "    text_list = [item for item in text_list if item != ' ' and item not in stopwords] # 去掉空格和停用词\n",
    "    return ' '.join(text_list)"
   ]
  },
  {
   "cell_type": "code",
   "execution_count": 199,
   "metadata": {},
   "outputs": [],
   "source": [
    "labels_index = {} # 记录分类标签的序号\n",
    "def load_raw_datasets():    \n",
    "    labels = []\n",
    "    texts = []\n",
    "    base_dir = './CN_Corpus'\n",
    "    t1 = time.time()\n",
    "    for cate_index, label in enumerate(os.listdir(base_dir)):\n",
    "        label_dir = os.path.join(base_dir, label)\n",
    "        file_list = os.listdir(label_dir)\n",
    "        labels_index[label] = cate_index # 记录分类标签的整数标号\n",
    "        print(\"label: {}, len: {}\".format(label, len(file_list)))\n",
    "\n",
    "        for fname in file_list:\n",
    "            f = open(os.path.join(label_dir, fname), encoding='gb2312', errors='ignore')\n",
    "            texts.append(preprocess_keras(f.read()))\n",
    "            f.close()\n",
    "            labels.append(labels_index[label])\n",
    "            \n",
    "    t2 = time.time()\n",
    "    tm_cost = t2-t1\n",
    "    print('\\nDone. {} total categories, {} total docs. cost {} seconds.'.format(len(os.listdir(base_dir)), len(texts), tm_cost))\n",
    "    return texts, labels"
   ]
  },
  {
   "cell_type": "code",
   "execution_count": 202,
   "metadata": {
    "scrolled": true
   },
   "outputs": [
    {
     "name": "stdout",
     "output_type": "stream",
     "text": [
      "label: C000008, len: 1990\n",
      "label: C000014, len: 1990\n",
      "label: C000013, len: 1990\n",
      "label: C000022, len: 1990\n",
      "label: C000023, len: 1990\n",
      "label: C000024, len: 1990\n",
      "label: C000010, len: 1990\n",
      "label: C000020, len: 1990\n",
      "label: C000016, len: 1990\n",
      "\n",
      "Done. 9 total categories, 17910 total docs. cost 101.7540500164032 seconds.\n"
     ]
    }
   ],
   "source": [
    "texts, labels = load_raw_datasets()"
   ]
  },
  {
   "cell_type": "code",
   "execution_count": 205,
   "metadata": {},
   "outputs": [
    {
     "data": {
      "text/plain": [
       "('本报讯 女足 国青队 马来西亚 夺得 亚青赛 冠军 奖金 中国足协 改革 国字号 球队 奖金 制度 男足 女足 同酬 参加 级别 正式 赛事 奖金 月份 澳大利亚 女足 亚洲杯 马良行 率领 中国队 夺得 冠军 奖金 中国足协 奖金 制度 国字号 女足 奖金 男足 较大 差距 男足 国青队 亚青赛 冠军 奖金 男足 国少队 亚洲 冠军 奖金 女足 国青队 世青赛 亚军 男足 亚洲 成绩 奖金 数目 谢亚龙 阎世铎 时代 奖金 制度 改革 男女 足 同酬 女足 国青队 本届 亚青赛 冠军 提高 上报 总局 审批 女足 国青队 奖金 球队 瓜分 照顾 关联 单位 中国足协 制定 奖金 分配制度 女足 国青队 奖金 中 ％ 奖励 女足 国青队 教练组 球员 ％ 奖励 做 工作 人员 ％ 奖励 输送 球员 女足 国青队 单位 这是 谢亚龙 奖金 分配制度 改革 中国足协 男女 足 国家队 主教练 薪水 提高 每月 集训 期间 教练员 津贴 元 男女 足 国青队 主教练 薪水 提高 每月 教练员 津贴 元 中国足协 大幅度提高 国字号 教练 待遇 目的 调动 积极性 待遇 过低 国字号 球队 任职 情况 □ 京君',\n",
       " 1)"
      ]
     },
     "execution_count": 205,
     "metadata": {},
     "output_type": "execute_result"
    }
   ],
   "source": [
    "texts[3000], labels[3000]"
   ]
  },
  {
   "cell_type": "code",
   "execution_count": 225,
   "metadata": {},
   "outputs": [
    {
     "data": {
      "text/plain": [
       "dict_values([0, 1, 2, 3, 4, 5, 6, 7, 8])"
      ]
     },
     "execution_count": 225,
     "metadata": {},
     "output_type": "execute_result"
    }
   ],
   "source": [
    "labels_index.values()"
   ]
  },
  {
   "cell_type": "code",
   "execution_count": 216,
   "metadata": {},
   "outputs": [
    {
     "data": {
      "text/plain": [
       "({'C000008': 0,\n",
       "  'C000014': 1,\n",
       "  'C000013': 2,\n",
       "  'C000022': 3,\n",
       "  'C000023': 4,\n",
       "  'C000024': 5,\n",
       "  'C000010': 6,\n",
       "  'C000020': 7,\n",
       "  'C000016': 8},\n",
       " {'C000008': '_08_Finance',\n",
       "  'C000010': '_10_IT',\n",
       "  'C000013': '_13_Health',\n",
       "  'C000014': '_14_Sports',\n",
       "  'C000016': '_16_Travel',\n",
       "  'C000020': '_20_Education',\n",
       "  'C000022': '_22_Recruit',\n",
       "  'C000023': '_23_Culture',\n",
       "  'C000024': '_24_Military'})"
      ]
     },
     "execution_count": 216,
     "metadata": {},
     "output_type": "execute_result"
    }
   ],
   "source": [
    "labels_index, category_labels"
   ]
  },
  {
   "cell_type": "markdown",
   "metadata": {},
   "source": [
    "## 语料预处理\n",
    "### 将文本转化为词向量矩阵"
   ]
  },
  {
   "cell_type": "code",
   "execution_count": 214,
   "metadata": {},
   "outputs": [],
   "source": [
    "MAX_SEQUENCE_LEN = 1000  # sequence length\n",
    "MAX_WORDS_NUM = 20000    # max words\n",
    "VAL_SPLIT_RATIO = 0.2    # ratio for validation"
   ]
  },
  {
   "cell_type": "code",
   "execution_count": 226,
   "metadata": {},
   "outputs": [],
   "source": [
    "# process datasets by keras API\n",
    "\n",
    "tokenizer = Tokenizer(num_words=MAX_WORDS_NUM)\n",
    "tokenizer.fit_on_texts(texts)\n",
    "sequences = tokenizer.texts_to_sequences(texts)\n",
    "\n",
    "data = pad_sequences(sequences, maxlen=MAX_SEQUENCE_LEN) \n",
    "# maxlen：序列的最大长度。大于此长度的序列将被截短，小于此长度的序列将在前部(默认)填0"
   ]
  },
  {
   "cell_type": "code",
   "execution_count": 242,
   "metadata": {
    "scrolled": true
   },
   "outputs": [
    {
     "name": "stdout",
     "output_type": "stream",
     "text": [
      "263284\n"
     ]
    },
    {
     "data": {
      "text/plain": [
       "{'\\x00': 1,\n",
       " '中': 2,\n",
       " '年': 3,\n",
       " '中国': 4,\n",
       " '月': 5,\n",
       " '公司': 6,\n",
       " '说': 7,\n",
       " '―': 8,\n",
       " '日': 9,\n",
       " '工作': 10,\n",
       " '时': 11,\n",
       " '发展': 12,\n",
       " '美国': 13,\n",
       " '做': 14,\n",
       " '企业': 15,\n",
       " '市场': 16,\n",
       " '新': 17,\n",
       " '时间': 18,\n",
       " '国家': 19,\n",
       " '记者': 20,\n",
       " '旅游': 21,\n",
       " '专业': 22,\n",
       " '情况': 23,\n",
       " '分': 24,\n",
       " '学生': 25,\n",
       " '元': 26,\n",
       " '里': 27,\n",
       " '一种': 28,\n",
       " '能力': 29,\n",
       " '北京': 30,\n",
       " '相关': 31,\n",
       " '社会': 32,\n",
       " '日本': 33,\n",
       " '考生': 34,\n",
       " '学校': 35,\n",
       " '前': 36,\n",
       " '高': 37,\n",
       " '技术': 38,\n",
       " '想': 39,\n",
       " '计划': 40,\n",
       " '文化': 41,\n",
       " '发现': 42,\n",
       " '生活': 43,\n",
       " '世界': 44,\n",
       " '孩子': 45,\n",
       " '提供': 46,\n",
       " '股东': 47,\n",
       " '选择': 48,\n",
       " '产品': 49,\n",
       " '研究': 50,\n",
       " '比赛': 51,\n",
       " '经济': 52,\n",
       " '影响': 53,\n",
       " '教育': 54,\n",
       " '管理': 55,\n",
       " '方式': 56,\n",
       " '包括': 57,\n",
       " '上海': 58,\n",
       " '％': 59,\n",
       " '国际': 60,\n",
       " '０': 61,\n",
       " '・': 62,\n",
       " '信息': 63,\n",
       " '参加': 64,\n",
       " '活动': 65,\n",
       " '历史': 66,\n",
       " 'a': 67,\n",
       " '服务': 68,\n",
       " '专家': 69,\n",
       " '招生': 70,\n",
       " '投资': 71,\n",
       " '希望': 72,\n",
       " '有限公司': 73,\n",
       " '１': 74,\n",
       " '考试': 75,\n",
       " '占': 76,\n",
       " '系统': 77,\n",
       " '特别': 78,\n",
       " '提高': 79,\n",
       " '搜狐': 80,\n",
       " '学习': 81,\n",
       " '增加': 82,\n",
       " '网络': 83,\n",
       " '这是': 84,\n",
       " '发生': 85,\n",
       " '全国': 86,\n",
       " '股份': 87,\n",
       " '建设': 88,\n",
       " '内容': 89,\n",
       " '行业': 90,\n",
       " '国内': 91,\n",
       " '．': 92,\n",
       " '职业': 93,\n",
       " '人才': 94,\n",
       " '项目': 95,\n",
       " '关系': 96,\n",
       " '两个': 97,\n",
       " '原因': 98,\n",
       " '过程': 99,\n",
       " '组织': 100,\n",
       " '我国': 101,\n",
       " '机会': 102,\n",
       " '地方': 103,\n",
       " '－': 104,\n",
       " '人员': 105,\n",
       " '表现': 106,\n",
       " '业务': 107,\n",
       " '增长': 108,\n",
       " '大学': 109,\n",
       " '会议': 110,\n",
       " '机构': 111,\n",
       " '号': 112,\n",
       " '分析': 113,\n",
       " '中心': 114,\n",
       " '城市': 115,\n",
       " '成功': 116,\n",
       " '目标': 117,\n",
       " '地区': 118,\n",
       " '报道': 119,\n",
       " '医院': 120,\n",
       " '岁': 121,\n",
       " '政府': 122,\n",
       " '之间': 123,\n",
       " '标准': 124,\n",
       " 'the': 125,\n",
       " '军事': 126,\n",
       " '训练': 127,\n",
       " '价格': 128,\n",
       " '找到': 129,\n",
       " '提出': 130,\n",
       " '未来': 131,\n",
       " 'gt': 132,\n",
       " '报告': 133,\n",
       " '录取': 134,\n",
       " '部队': 135,\n",
       " '生产': 136,\n",
       " '接受': 137,\n",
       " '治疗': 138,\n",
       " '２': 139,\n",
       " '走': 140,\n",
       " 'g': 141,\n",
       " '集团': 142,\n",
       " '应': 143,\n",
       " '第一': 144,\n",
       " '志愿': 145,\n",
       " '吃': 146,\n",
       " 'c': 147,\n",
       " '招聘': 148,\n",
       " '称': 149,\n",
       " '基础': 150,\n",
       " '调查': 151,\n",
       " '论坛': 152,\n",
       " '去年': 153,\n",
       " '部门': 154,\n",
       " '单位': 155,\n",
       " '超过': 156,\n",
       " '调整': 157,\n",
       " '作战': 158,\n",
       " '股权': 159,\n",
       " '资料': 160,\n",
       " '方法': 161,\n",
       " '台湾': 162,\n",
       " '介绍': 163,\n",
       " '环境': 164,\n",
       " '股': 165,\n",
       " '合作': 166,\n",
       " '喜欢': 167,\n",
       " '建立': 168,\n",
       " '媒体': 169,\n",
       " '二': 170,\n",
       " '作用': 171,\n",
       " '水平': 172,\n",
       " '条件': 173,\n",
       " '导弹': 174,\n",
       " '飞机': 175,\n",
       " '游客': 176,\n",
       " '实施': 177,\n",
       " '关注': 178,\n",
       " '’': 179,\n",
       " '员工': 180,\n",
       " '万元': 181,\n",
       " '全球': 182,\n",
       " '男人': 183,\n",
       " '告诉': 184,\n",
       " '战略': 185,\n",
       " '代表': 186,\n",
       " 'b': 187,\n",
       " '行情': 188,\n",
       " '销售': 189,\n",
       " '直播员': 190,\n",
       " '拥有': 191,\n",
       " '女性': 192,\n",
       " '期间': 193,\n",
       " '一位': 194,\n",
       " '事情': 195,\n",
       " '找': 196,\n",
       " '成': 197,\n",
       " '重点': 198,\n",
       " '政策': 199,\n",
       " '用户': 200,\n",
       " '传统': 201,\n",
       " '显示': 202,\n",
       " '收入': 203,\n",
       " '分钟': 204,\n",
       " '这一': 205,\n",
       " '消息': 206,\n",
       " '改革': 207,\n",
       " '指出': 208,\n",
       " '一点': 209,\n",
       " '页': 210,\n",
       " '网站': 211,\n",
       " '政治': 212,\n",
       " '名': 213,\n",
       " '一页': 214,\n",
       " '成绩': 215,\n",
       " '老师': 216,\n",
       " '本次': 217,\n",
       " '解决': 218,\n",
       " '带来': 219,\n",
       " '手机': 220,\n",
       " '感觉': 221,\n",
       " '支持': 222,\n",
       " '小时': 223,\n",
       " '建议': 224,\n",
       " '女人': 225,\n",
       " '达': 226,\n",
       " '导致': 227,\n",
       " '东西': 228,\n",
       " '老板': 229,\n",
       " '外': 230,\n",
       " '最终': 231,\n",
       " '压力': 232,\n",
       " '知识': 233,\n",
       " '精神': 234,\n",
       " '高校': 235,\n",
       " '控制': 236,\n",
       " '三': 237,\n",
       " '家': 238,\n",
       " '高考': 239,\n",
       " '经验': 240,\n",
       " '美军': 241,\n",
       " '很大': 242,\n",
       " '就业': 243,\n",
       " '约': 244,\n",
       " '设计': 245,\n",
       " '事': 246,\n",
       " '制度': 247,\n",
       " '越来越': 248,\n",
       " '毕业生': 249,\n",
       " '变化': 250,\n",
       " '文章': 251,\n",
       " '图': 252,\n",
       " '请': 253,\n",
       " '‘': 254,\n",
       " '价值': 255,\n",
       " '点': 256,\n",
       " '领导': 257,\n",
       " '阶段': 258,\n",
       " '俄罗斯': 259,\n",
       " '写': 260,\n",
       " '法律': 261,\n",
       " '健康': 262,\n",
       " '资金': 263,\n",
       " '需求': 264,\n",
       " '总': 265,\n",
       " '结束': 266,\n",
       " '利用': 267,\n",
       " '朋友': 268,\n",
       " '只能': 269,\n",
       " '大学生': 270,\n",
       " '钱': 271,\n",
       " '方案': 272,\n",
       " '海军': 273,\n",
       " '太': 274,\n",
       " '５': 275,\n",
       " '３': 276,\n",
       " '一家': 277,\n",
       " '类': 278,\n",
       " '演习': 279,\n",
       " '正式': 280,\n",
       " '推出': 281,\n",
       " '保护': 282,\n",
       " '战争': 283,\n",
       " '开发': 284,\n",
       " '心理': 285,\n",
       " '品牌': 286,\n",
       " '自然': 287,\n",
       " '领域': 288,\n",
       " '一年': 289,\n",
       " '进一步': 290,\n",
       " '资源': 291,\n",
       " '印度': 292,\n",
       " '投票': 293,\n",
       " '现象': 294,\n",
       " '阅读': 295,\n",
       " '面对': 296,\n",
       " '办法': 297,\n",
       " '安排': 298,\n",
       " '有人': 299,\n",
       " '工程': 300,\n",
       " '伊朗': 301,\n",
       " '经营': 302,\n",
       " '优势': 303,\n",
       " '创新': 304,\n",
       " '程度': 305,\n",
       " '采用': 306,\n",
       " '英国': 307,\n",
       " '患者': 308,\n",
       " '问': 309,\n",
       " '状态': 310,\n",
       " '装备': 311,\n",
       " '几个': 312,\n",
       " '英语': 313,\n",
       " '因素': 314,\n",
       " '改变': 315,\n",
       " '面试': 316,\n",
       " '综合': 317,\n",
       " '比例': 318,\n",
       " '军队': 319,\n",
       " '证券': 320,\n",
       " '董事会': 321,\n",
       " 'com': 322,\n",
       " '家长': 323,\n",
       " '正': 324,\n",
       " '功能': 325,\n",
       " '亿元': 326,\n",
       " '教师': 327,\n",
       " '努力': 328,\n",
       " '竞争': 329,\n",
       " '保证': 330,\n",
       " '公布': 331,\n",
       " '人士': 332,\n",
       " '武器': 333,\n",
       " '联合': 334,\n",
       " '年代': 335,\n",
       " '香港': 336,\n",
       " '家庭': 337,\n",
       " 'www': 338,\n",
       " '学院': 339,\n",
       " '电话': 340,\n",
       " '负责': 341,\n",
       " '执行': 342,\n",
       " '型': 343,\n",
       " '讲': 344,\n",
       " '教授': 345,\n",
       " '旅行社': 346,\n",
       " '亿美元': 347,\n",
       " '非': 348,\n",
       " '客户': 349,\n",
       " '药品': 350,\n",
       " '五一': 351,\n",
       " '消费者': 352,\n",
       " '风险': 353,\n",
       " '目的': 354,\n",
       " '农村': 355,\n",
       " '方向': 356,\n",
       " '欧洲': 357,\n",
       " '长期': 358,\n",
       " '数量': 359,\n",
       " '感到': 360,\n",
       " '培养': 361,\n",
       " '置': 362,\n",
       " '大陆': 363,\n",
       " '培训': 364,\n",
       " '昨天': 365,\n",
       " '来源': 366,\n",
       " '深圳': 367,\n",
       " '科学': 368,\n",
       " '思想': 369,\n",
       " '同学': 370,\n",
       " '低': 371,\n",
       " '４': 372,\n",
       " '人民': 373,\n",
       " '解放军': 374,\n",
       " '年度': 375,\n",
       " '形式': 376,\n",
       " '减少': 377,\n",
       " '参与': 378,\n",
       " '意见': 379,\n",
       " '成本': 380,\n",
       " '咨询': 381,\n",
       " '经历': 382,\n",
       " '时代': 383,\n",
       " '德国': 384,\n",
       " '检查': 385,\n",
       " '肯定': 386,\n",
       " '韩国': 387,\n",
       " '理解': 388,\n",
       " '未': 389,\n",
       " 'd': 390,\n",
       " '独立': 391,\n",
       " 'of': 392,\n",
       " '力量': 393,\n",
       " '先': 394,\n",
       " '数据': 395,\n",
       " '办公室': 396,\n",
       " '简单': 397,\n",
       " '医生': 398,\n",
       " '质量': 399,\n",
       " '民族': 400,\n",
       " '公开': 401,\n",
       " '世纪': 402,\n",
       " '同意': 403,\n",
       " '听': 404,\n",
       " '发布': 405,\n",
       " '采访': 406,\n",
       " '不到': 407,\n",
       " '三个': 408,\n",
       " 'to': 409,\n",
       " '效果': 410,\n",
       " '规模': 411,\n",
       " '意义': 412,\n",
       " '网页': 413,\n",
       " '投入': 414,\n",
       " '毕业': 415,\n",
       " '透露': 416,\n",
       " '次': 417,\n",
       " '身体': 418,\n",
       " '利益': 419,\n",
       " '米': 420,\n",
       " '推荐': 421,\n",
       " '９': 422,\n",
       " '球队': 423,\n",
       " '模式': 424,\n",
       " '投资者': 425,\n",
       " '网上': 426,\n",
       " '费用': 427,\n",
       " '病人': 428,\n",
       " '买': 429,\n",
       " '编辑': 430,\n",
       " '下降': 431,\n",
       " '人民币': 432,\n",
       " 'it': 433,\n",
       " '基金': 434,\n",
       " '一场': 435,\n",
       " '微软': 436,\n",
       " '预计': 437,\n",
       " '购买': 438,\n",
       " '新闻': 439,\n",
       " '也许': 440,\n",
       " '现场': 441,\n",
       " '主持人': 442,\n",
       " '作者': 443,\n",
       " '连续': 444,\n",
       " '科技': 445,\n",
       " '统一': 446,\n",
       " '６': 447,\n",
       " '爱': 448,\n",
       " '实际上': 449,\n",
       " '完': 450,\n",
       " '反对': 451,\n",
       " '空军': 452,\n",
       " '队员': 453,\n",
       " '副': 454,\n",
       " '实力': 455,\n",
       " '运动': 456,\n",
       " '处于': 457,\n",
       " '父母': 458,\n",
       " 'f': 459,\n",
       " '广州': 460,\n",
       " '提升': 461,\n",
       " '保障': 462,\n",
       " '终于': 463,\n",
       " '事件': 464,\n",
       " '职位': 465,\n",
       " '秒': 466,\n",
       " '天': 467,\n",
       " '关键': 468,\n",
       " '平台': 469,\n",
       " '空间': 470,\n",
       " '至少': 471,\n",
       " '先进': 472,\n",
       " '对此': 473,\n",
       " '第一次': 474,\n",
       " '美元': 475,\n",
       " '持续': 476,\n",
       " '产业': 477,\n",
       " '地位': 478,\n",
       " '软件': 479,\n",
       " '审议': 480,\n",
       " '负责人': 481,\n",
       " '稳定': 482,\n",
       " '缺乏': 483,\n",
       " '法国': 484,\n",
       " '设备': 485,\n",
       " '搜索': 486,\n",
       " '疾病': 487,\n",
       " '面临': 488,\n",
       " '院校': 489,\n",
       " '受': 490,\n",
       " '适合': 491,\n",
       " 'sports': 492,\n",
       " '８': 493,\n",
       " '相比': 494,\n",
       " '广告': 495,\n",
       " '本科': 496,\n",
       " '用于': 497,\n",
       " '时期': 498,\n",
       " '公告': 499,\n",
       " '结构': 500,\n",
       " '站': 501,\n",
       " '平均': 502,\n",
       " '同事': 503,\n",
       " '西方': 504,\n",
       " 'setcookie': 505,\n",
       " '体系': 506,\n",
       " '对手': 507,\n",
       " '态度': 508,\n",
       " '更是': 509,\n",
       " '一份': 510,\n",
       " '游戏': 511,\n",
       " '原则': 512,\n",
       " '著名': 513,\n",
       " '战斗机': 514,\n",
       " '性': 515,\n",
       " '实行': 516,\n",
       " '主任': 517,\n",
       " '航空': 518,\n",
       " '银行': 519,\n",
       " '理论': 520,\n",
       " '不好': 521,\n",
       " '长': 522,\n",
       " '证明': 523,\n",
       " '手术': 524,\n",
       " '制定': 525,\n",
       " '一名': 526,\n",
       " '攻击': 527,\n",
       " '创造': 528,\n",
       " '位置': 529,\n",
       " '材料': 530,\n",
       " '突破': 531,\n",
       " '流通股': 532,\n",
       " '成立': 533,\n",
       " '交易': 534,\n",
       " '少': 535,\n",
       " '首次': 536,\n",
       " '日前': 537,\n",
       " '研发': 538,\n",
       " '台军': 539,\n",
       " '复习': 540,\n",
       " '球员': 541,\n",
       " '四': 542,\n",
       " '具备': 543,\n",
       " '一条': 544,\n",
       " '表决': 545,\n",
       " '享受': 546,\n",
       " '符合': 547,\n",
       " '基地': 548,\n",
       " '降低': 549,\n",
       " '战机': 550,\n",
       " '多年': 551,\n",
       " '评价': 552,\n",
       " '交流': 553,\n",
       " '商业': 554,\n",
       " '内部': 555,\n",
       " '收费': 556,\n",
       " '艺术': 557,\n",
       " '发挥': 558,\n",
       " '互联网': 559,\n",
       " '人数': 560,\n",
       " '困难': 561,\n",
       " '飞行': 562,\n",
       " '申请': 563,\n",
       " '消费': 564,\n",
       " '报考': 565,\n",
       " '真的': 566,\n",
       " '吸引': 567,\n",
       " '国外': 568,\n",
       " '作': 569,\n",
       " '打击': 570,\n",
       " '生命': 571,\n",
       " '强': 572,\n",
       " '难': 573,\n",
       " '披露': 574,\n",
       " '两年': 575,\n",
       " '制造': 576,\n",
       " '体现': 577,\n",
       " '背景': 578,\n",
       " '７': 579,\n",
       " '省': 580,\n",
       " '职场': 581,\n",
       " '酒店': 582,\n",
       " '大型': 583,\n",
       " '确实': 584,\n",
       " '沟通': 585,\n",
       " '议案': 586,\n",
       " '研制': 587,\n",
       " '美': 588,\n",
       " '是因为': 589,\n",
       " '整体': 590,\n",
       " '黄金周': 591,\n",
       " '需': 592,\n",
       " '业绩': 593,\n",
       " '高级': 594,\n",
       " '药物': 595,\n",
       " '解释': 596,\n",
       " '不错': 597,\n",
       " '测试': 598,\n",
       " '做出': 599,\n",
       " '试验': 600,\n",
       " '～': 601,\n",
       " '上市': 602,\n",
       " '新型': 603,\n",
       " '网友': 604,\n",
       " '联赛': 605,\n",
       " '离开': 606,\n",
       " '上市公司': 607,\n",
       " '课程': 608,\n",
       " '当年': 609,\n",
       " '现实': 610,\n",
       " '俱乐部': 611,\n",
       " '指': 612,\n",
       " '广东': 613,\n",
       " '自由': 614,\n",
       " '昨日': 615,\n",
       " '紧张': 616,\n",
       " '这位': 617,\n",
       " '数字': 618,\n",
       " '亚洲': 619,\n",
       " '发行': 620,\n",
       " '协议': 621,\n",
       " '上涨': 622,\n",
       " '很快': 623,\n",
       " '作品': 624,\n",
       " '自主': 625,\n",
       " '读者': 626,\n",
       " '简历': 627,\n",
       " 'in': 628,\n",
       " '手段': 629,\n",
       " '下午': 630,\n",
       " '农民': 631,\n",
       " '式': 632,\n",
       " '近日': 633,\n",
       " 'and': 634,\n",
       " '潜艇': 635,\n",
       " '语言': 636,\n",
       " '公里': 637,\n",
       " '男性': 638,\n",
       " '正确': 639,\n",
       " '一项': 640,\n",
       " '特色': 641,\n",
       " '工资': 642,\n",
       " '重视': 643,\n",
       " '人类': 644,\n",
       " '话': 645,\n",
       " '路': 646,\n",
       " '越': 647,\n",
       " '来到': 648,\n",
       " '填报': 649,\n",
       " '间': 650,\n",
       " '依然': 651,\n",
       " '规划': 652,\n",
       " '支付': 653,\n",
       " '贷款': 654,\n",
       " '提醒': 655,\n",
       " '责任': 656,\n",
       " '速度': 657,\n",
       " '挑战': 658,\n",
       " '意识': 659,\n",
       " '通知': 660,\n",
       " '成都': 661,\n",
       " '宣传': 662,\n",
       " '做好': 663,\n",
       " '搞': 664,\n",
       " '儿子': 665,\n",
       " '大部分': 666,\n",
       " '利润': 667,\n",
       " '进': 668,\n",
       " '电子': 669,\n",
       " '概念': 670,\n",
       " '措施': 671,\n",
       " '月份': 672,\n",
       " '身上': 673,\n",
       " '电脑': 674,\n",
       " '早': 675,\n",
       " '报名': 676,\n",
       " '兴趣': 677,\n",
       " '回答': 678,\n",
       " '规范': 679,\n",
       " '医疗': 680,\n",
       " '优秀': 681,\n",
       " '工业': 682,\n",
       " '角度': 683,\n",
       " '经理': 684,\n",
       " '放弃': 685,\n",
       " '涉及': 686,\n",
       " '图库': 687,\n",
       " '市': 688,\n",
       " '习惯': 689,\n",
       " '一部分': 690,\n",
       " '★': 691,\n",
       " '成熟': 692,\n",
       " '革命': 693,\n",
       " '观点': 694,\n",
       " '自我': 695,\n",
       " '维护': 696,\n",
       " '情绪': 697,\n",
       " '体育': 698,\n",
       " '快速': 699,\n",
       " '官员': 700,\n",
       " '理想': 701,\n",
       " '指导': 702,\n",
       " '岗位': 703,\n",
       " '展开': 704,\n",
       " '进攻': 705,\n",
       " '状况': 706,\n",
       " '免费': 707,\n",
       " '架': 708,\n",
       " '承诺': 709,\n",
       " '威胁': 710,\n",
       " '发表': 711,\n",
       " '指挥': 712,\n",
       " '难以': 713,\n",
       " '主动': 714,\n",
       " '意味着': 715,\n",
       " '女': 716,\n",
       " '程序': 717,\n",
       " '核心': 718,\n",
       " '担心': 719,\n",
       " '道': 720,\n",
       " '股票': 721,\n",
       " '位于': 722,\n",
       " '故事': 723,\n",
       " '乡村': 724,\n",
       " '研究生': 725,\n",
       " '委员会': 726,\n",
       " '增强': 727,\n",
       " '事业': 728,\n",
       " '平时': 729,\n",
       " '苏联': 730,\n",
       " '真实': 731,\n",
       " '对象': 732,\n",
       " '合同': 733,\n",
       " '学': 734,\n",
       " '第三': 735,\n",
       " '更好': 736,\n",
       " '股东大会': 737,\n",
       " '机场': 738,\n",
       " '持有': 739,\n",
       " '预期': 740,\n",
       " '值得': 741,\n",
       " '几年': 742,\n",
       " '刚刚': 743,\n",
       " '航班': 744,\n",
       " '原': 745,\n",
       " '年轻': 746,\n",
       " '题': 747,\n",
       " '部署': 748,\n",
       " '住': 749,\n",
       " '展示': 750,\n",
       " '推进': 751,\n",
       " '处': 752,\n",
       " '收购': 753,\n",
       " '营养': 754,\n",
       " '类似': 755,\n",
       " '期': 756,\n",
       " '食品': 757,\n",
       " '冠军': 758,\n",
       " '亿': 759,\n",
       " '电视': 760,\n",
       " '体验': 761,\n",
       " '统计': 762,\n",
       " '主场': 763,\n",
       " '理由': 764,\n",
       " '接触': 765,\n",
       " '众多': 766,\n",
       " '感受': 767,\n",
       " '作出': 768,\n",
       " '追求': 769,\n",
       " '求职': 770,\n",
       " '资产': 771,\n",
       " '五': 772,\n",
       " '中央': 773,\n",
       " '级': 774,\n",
       " '空中': 775,\n",
       " '推动': 776,\n",
       " '日电': 777,\n",
       " '汽车': 778,\n",
       " '信息化': 779,\n",
       " '现代化': 780,\n",
       " '操作': 781,\n",
       " '完善': 782,\n",
       " '之外': 783,\n",
       " '之中': 784,\n",
       " '医药': 785,\n",
       " '死': 786,\n",
       " '计算机': 787,\n",
       " '开': 788,\n",
       " '毛泽东': 789,\n",
       " '实在': 790,\n",
       " '胜利': 791,\n",
       " '资本': 792,\n",
       " '朝鲜': 793,\n",
       " '穿': 794,\n",
       " '母亲': 795,\n",
       " '此前': 796,\n",
       " '症状': 797,\n",
       " '食物': 798,\n",
       " '倍': 799,\n",
       " '回到': 800,\n",
       " '讨论': 801,\n",
       " '称为': 802,\n",
       " '提前': 803,\n",
       " '形象': 804,\n",
       " '区域': 805,\n",
       " '距离': 806,\n",
       " 's': 807,\n",
       " '年龄': 808,\n",
       " '中国队': 809,\n",
       " '人物': 810,\n",
       " '趋势': 811,\n",
       " '房地产': 812,\n",
       " '青年': 813,\n",
       " '主席': 814,\n",
       " '寻找': 815,\n",
       " '强大': 816,\n",
       " '事实上': 817,\n",
       " '举办': 818,\n",
       " '场': 819,\n",
       " '恢复': 820,\n",
       " '台': 821,\n",
       " '开放': 822,\n",
       " '文件': 823,\n",
       " 'q': 824,\n",
       " '一是': 825,\n",
       " '答案': 826,\n",
       " '令': 827,\n",
       " '位': 828,\n",
       " '全': 829,\n",
       " '领先': 830,\n",
       " '通信': 831,\n",
       " '父亲': 832,\n",
       " '电影': 833,\n",
       " '教育部': 834,\n",
       " '批准': 835,\n",
       " 'e': 836,\n",
       " '●': 837,\n",
       " '资格': 838,\n",
       " '教学': 839,\n",
       " '高度': 840,\n",
       " '补充': 841,\n",
       " '留下': 842,\n",
       " '出口': 843,\n",
       " '数学': 844,\n",
       " '采购': 845,\n",
       " '表达': 846,\n",
       " '素质': 847,\n",
       " '第一个': 848,\n",
       " '考研': 849,\n",
       " '主题': 850,\n",
       " '人生': 851,\n",
       " '承担': 852,\n",
       " '委托': 853,\n",
       " '一句': 854,\n",
       " '给予': 855,\n",
       " '航母': 856,\n",
       " '快乐': 857,\n",
       " '判断': 858,\n",
       " '计算': 859,\n",
       " '地点': 860,\n",
       " '决赛': 861,\n",
       " '准确': 862,\n",
       " '发射': 863,\n",
       " '唯一': 864,\n",
       " '成长': 865,\n",
       " '晚上': 866,\n",
       " '将会': 867,\n",
       " '近期': 868,\n",
       " '较大': 869,\n",
       " '心态': 870,\n",
       " '面前': 871,\n",
       " '新华社': 872,\n",
       " '失败': 873,\n",
       " '董事': 874,\n",
       " '收益': 875,\n",
       " '搜狗': 876,\n",
       " '球': 877,\n",
       " '运营商': 878,\n",
       " '指数': 879,\n",
       " '多个': 880,\n",
       " '永远': 881,\n",
       " '万人': 882,\n",
       " '区': 883,\n",
       " '法': 884,\n",
       " '上午': 885,\n",
       " '人体': 886,\n",
       " '文学': 887,\n",
       " '显得': 888,\n",
       " '俄': 889,\n",
       " '总数': 890,\n",
       " '变得': 891,\n",
       " '军': 892,\n",
       " '两': 893,\n",
       " '改革方案': 894,\n",
       " '水': 895,\n",
       " '爱情': 896,\n",
       " '多种': 897,\n",
       " '大规模': 898,\n",
       " '说法': 899,\n",
       " '最新': 900,\n",
       " '一系列': 901,\n",
       " '明白': 902,\n",
       " '跑': 903,\n",
       " '照片': 904,\n",
       " '策略': 905,\n",
       " '派': 906,\n",
       " '办理': 907,\n",
       " '人口': 908,\n",
       " '真': 909,\n",
       " '错误': 910,\n",
       " '声明': 911,\n",
       " '南京': 912,\n",
       " '最佳': 913,\n",
       " '景区': 914,\n",
       " '不用': 915,\n",
       " '太阳': 916,\n",
       " '完整': 917,\n",
       " '北京市': 918,\n",
       " '令人': 919,\n",
       " '建筑': 920,\n",
       " '倒': 921,\n",
       " '字': 922,\n",
       " '跳槽': 923,\n",
       " '市民': 924,\n",
       " '评估': 925,\n",
       " '音乐': 926,\n",
       " '担任': 927,\n",
       " '承认': 928,\n",
       " '思维': 929,\n",
       " '激烈': 930,\n",
       " 'sogou': 931,\n",
       " '实践': 932,\n",
       " '皮肤': 933,\n",
       " '预测': 934,\n",
       " '万美元': 935,\n",
       " '游': 936,\n",
       " '海上': 937,\n",
       " '权力': 938,\n",
       " '股改': 939,\n",
       " '行政': 940,\n",
       " '和平': 941,\n",
       " '系列': 942,\n",
       " '律师': 943,\n",
       " '学者': 944,\n",
       " '干': 945,\n",
       " '放在': 946,\n",
       " '战场': 947,\n",
       " '队': 948,\n",
       " '国防': 949,\n",
       " '实验': 950,\n",
       " '土地': 951,\n",
       " '线路': 952,\n",
       " '师': 953,\n",
       " '详细': 954,\n",
       " '把握': 955,\n",
       " '交通': 956,\n",
       " '世界杯': 957,\n",
       " '儿童': 958,\n",
       " '做法': 959,\n",
       " '现有': 960,\n",
       " '物质': 961,\n",
       " '事实': 962,\n",
       " '书': 963,\n",
       " '启动': 964,\n",
       " '报': 965,\n",
       " '有限': 966,\n",
       " '低于': 967,\n",
       " '品种': 968,\n",
       " '危险': 969,\n",
       " '想法': 970,\n",
       " '二是': 971,\n",
       " '花': 972,\n",
       " '渠道': 973,\n",
       " '无疑': 974,\n",
       " '本来': 975,\n",
       " '战术': 976,\n",
       " '新华网': 977,\n",
       " '每次': 978,\n",
       " '得分': 979,\n",
       " '通': 980,\n",
       " '团队': 981,\n",
       " '持': 982,\n",
       " '接近': 983,\n",
       " '女儿': 984,\n",
       " '总经理': 985,\n",
       " '大幅': 986,\n",
       " '纷纷': 987,\n",
       " '权利': 988,\n",
       " '两种': 989,\n",
       " '总统': 990,\n",
       " '却是': 991,\n",
       " '充满': 992,\n",
       " '机制': 993,\n",
       " '差距': 994,\n",
       " '条': 995,\n",
       " '熟悉': 996,\n",
       " '白领': 997,\n",
       " '伊拉克': 998,\n",
       " '一批': 999,\n",
       " '肿瘤': 1000,\n",
       " ...}"
      ]
     },
     "execution_count": 242,
     "metadata": {},
     "output_type": "execute_result"
    }
   ],
   "source": [
    "word_index = tokenizer.word_index\n",
    "print(len(word_index)) # all token found\n",
    "word_index"
   ]
  },
  {
   "cell_type": "code",
   "execution_count": 373,
   "metadata": {},
   "outputs": [
    {
     "name": "stdout",
     "output_type": "stream",
     "text": [
      "本报 北京 月 日电 报道 导弹 团 传出 营 参谋长 提出 兵器 改进 方案 困扰 该团 兵器 设计 厂家 兵器 隐患 迎刃而解 赢得 官兵 专家 赞扬 几年 前 该团 列装 新型 防空 导弹 检验 性 实弹 中 几次 故障 影响 新型 武器 系统 战斗力 发挥 查找 兵器 隐患 兵器 研发 厂家 专家组 伴随 保障 跟踪 观察 故障 症结 难 察觉 始终 该团 前不久 实弹 演练 时 营 参谋长 调试 兵器 参数 过程 中 这一 分析 论证 果断 推定 战车 某项 编排 不当 系统 作战 程序 相互 冲突 影响 原因 大胆 提出 改进 方案 专家 程序 检测 肯定 看法 建议 该团 应急 措施 清除 故障 隐患 打出 长期 困扰 兵器 故障 终于 得以 解决 看似 偶然 艰辛 查找 武器 系统 隐患 实践 兵器 性能 记下 操作 心得 原因 逐一 推测 判断 排除 上万 组 计算机 数据 统计 筛选 分析 最终 顺利 得以 解决 "
     ]
    }
   ],
   "source": [
    "dict_swaped = lambda _dict: {val:key for (key, val) in _dict.items()}\n",
    "word_dict = dict_swaped(word_index) # swap key-value\n",
    "\n",
    "# convert from index to origianl doc\n",
    "for index in data[0]:\n",
    "    if index != 0:\n",
    "        print(word_dict[index], end=' ')"
   ]
  },
  {
   "cell_type": "code",
   "execution_count": 370,
   "metadata": {
    "scrolled": true
   },
   "outputs": [
    {
     "data": {
      "text/plain": [
       "'_24_Military'"
      ]
     },
     "execution_count": 370,
     "metadata": {},
     "output_type": "execute_result"
    }
   ],
   "source": [
    "category_labels[dict_swaped(labels_index)[np.argmax(labels_categorical[0])]]"
   ]
  },
  {
   "cell_type": "code",
   "execution_count": 280,
   "metadata": {},
   "outputs": [
    {
     "name": "stdout",
     "output_type": "stream",
     "text": [
      "Shape of data tensor: (17910, 1000)\n",
      "Shape of label tensor: (17910, 9)\n"
     ]
    }
   ],
   "source": [
    "# 将类别向量转换为one-hot形式\n",
    "labels_categorical = to_categorical(np.asarray(labels))\n",
    "print('Shape of data tensor:', data.shape)\n",
    "print('Shape of label tensor:', labels_categorical.shape)"
   ]
  },
  {
   "cell_type": "markdown",
   "metadata": {},
   "source": [
    "### 划分训练集与校验集"
   ]
  },
  {
   "cell_type": "code",
   "execution_count": 313,
   "metadata": {},
   "outputs": [],
   "source": [
    "indices = np.arange(data.shape[0])\n",
    "np.random.shuffle(indices)\n",
    "data = data[indices]\n",
    "labels_categorical = labels_categorical[indices]"
   ]
  },
  {
   "cell_type": "code",
   "execution_count": 324,
   "metadata": {},
   "outputs": [
    {
     "data": {
      "text/plain": [
       "((14328, 1000), (3582, 1000))"
      ]
     },
     "execution_count": 324,
     "metadata": {},
     "output_type": "execute_result"
    }
   ],
   "source": [
    "# split data by ratio\n",
    "val_samples_num = int(VAL_SPLIT_RATIO * data.shape[0])\n",
    "x_train = data[:-val_samples_num]\n",
    "y_train = labels_categorical[:-val_samples_num]\n",
    "x_val = data[-val_samples_num:]\n",
    "y_val = labels_categorical[-val_samples_num:]\n",
    "\n",
    "x_train.shape, x_val.shape"
   ]
  },
  {
   "cell_type": "code",
   "execution_count": 357,
   "metadata": {},
   "outputs": [
    {
     "data": {
      "text/plain": [
       "array([[   0,    0,    0, ..., 1081, 2111,  218],\n",
       "       [   0,    0,    0, ..., 3502,  508, 4917],\n",
       "       [   0,    0,    0, ...,  193, 1287, 2759],\n",
       "       ...,\n",
       "       [   0,    0,    0, ...,  129,   31,  413],\n",
       "       [   0,    0,    0, ...,  395, 3132,   46],\n",
       "       [   0,    0,    0, ..., 4245, 1488,   23]], dtype=int32)"
      ]
     },
     "execution_count": 357,
     "metadata": {},
     "output_type": "execute_result"
    }
   ],
   "source": [
    "x_train"
   ]
  },
  {
   "cell_type": "markdown",
   "metadata": {},
   "source": [
    "## 构建模型"
   ]
  },
  {
   "cell_type": "markdown",
   "metadata": {},
   "source": [
    "### model 1 自己训练词权重向量"
   ]
  },
  {
   "cell_type": "code",
   "execution_count": 332,
   "metadata": {},
   "outputs": [],
   "source": [
    "# 定义词嵌入矩阵\n",
    "MAX_WORDS_NUM = 20000    # max words\n",
    "MAX_SEQUENCE_LEN = 1000  # sequence length\n",
    "EMBEDDING_DIM = 300      # embedding dimension\n",
    "\n",
    "input_dim = x_train.shape[1]"
   ]
  },
  {
   "cell_type": "code",
   "execution_count": 376,
   "metadata": {},
   "outputs": [],
   "source": [
    "model1 = Sequential()\n",
    "model1.add(Embedding(input_dim=MAX_WORDS_NUM+1, \n",
    "                     output_dim=EMBEDDING_DIM, \n",
    "                     input_length=MAX_SEQUENCE_LEN))\n",
    "model1.add(Flatten())\n",
    "model1.add(Dense(64, activation='relu', input_shape=(input_dim,)))\n",
    "model1.add(Dense(64, activation='relu'))\n",
    "model1.add(Dense(len(labels_index), activation='softmax'))"
   ]
  },
  {
   "cell_type": "code",
   "execution_count": 334,
   "metadata": {},
   "outputs": [
    {
     "name": "stdout",
     "output_type": "stream",
     "text": [
      "_________________________________________________________________\n",
      "Layer (type)                 Output Shape              Param #   \n",
      "=================================================================\n",
      "embedding_2 (Embedding)      (None, 1000, 300)         6000300   \n",
      "_________________________________________________________________\n",
      "flatten_2 (Flatten)          (None, 300000)            0         \n",
      "_________________________________________________________________\n",
      "dense_4 (Dense)              (None, 64)                19200064  \n",
      "_________________________________________________________________\n",
      "dense_5 (Dense)              (None, 64)                4160      \n",
      "_________________________________________________________________\n",
      "dense_6 (Dense)              (None, 9)                 585       \n",
      "=================================================================\n",
      "Total params: 25,205,109\n",
      "Trainable params: 25,205,109\n",
      "Non-trainable params: 0\n",
      "_________________________________________________________________\n"
     ]
    }
   ],
   "source": [
    "model1.summary()"
   ]
  },
  {
   "cell_type": "code",
   "execution_count": 337,
   "metadata": {},
   "outputs": [],
   "source": [
    "model1.compile(optimizer='rmsprop',\n",
    "               loss='categorical_crossentropy',\n",
    "               metrics=['accuracy'])"
   ]
  },
  {
   "cell_type": "code",
   "execution_count": 338,
   "metadata": {},
   "outputs": [
    {
     "name": "stdout",
     "output_type": "stream",
     "text": [
      "WARNING:tensorflow:From /Users/aeternae/anaconda3/envs/tf1/lib/python3.6/site-packages/tensorflow/python/ops/math_ops.py:3066: to_int32 (from tensorflow.python.ops.math_ops) is deprecated and will be removed in a future version.\n",
      "Instructions for updating:\n",
      "Use tf.cast instead.\n",
      "Train on 14328 samples, validate on 3582 samples\n",
      "Epoch 1/30\n",
      "14328/14328 [==============================] - 74s 5ms/step - loss: 1.6176 - acc: 0.6128 - val_loss: 0.3883 - val_acc: 0.8825\n",
      "Epoch 2/30\n",
      "14328/14328 [==============================] - 77s 5ms/step - loss: 0.1836 - acc: 0.9441 - val_loss: 0.3285 - val_acc: 0.9087\n",
      "Epoch 3/30\n",
      "14328/14328 [==============================] - 77s 5ms/step - loss: 0.0546 - acc: 0.9819 - val_loss: 0.3600 - val_acc: 0.9090\n",
      "Epoch 4/30\n",
      "14328/14328 [==============================] - 81s 6ms/step - loss: 0.0366 - acc: 0.9860 - val_loss: 0.3991 - val_acc: 0.9026\n",
      "Epoch 5/30\n",
      "14328/14328 [==============================] - 77s 5ms/step - loss: 0.0336 - acc: 0.9865 - val_loss: 0.4808 - val_acc: 0.9076\n",
      "Epoch 6/30\n",
      "14328/14328 [==============================] - 78s 5ms/step - loss: 0.0299 - acc: 0.9863 - val_loss: 0.6106 - val_acc: 0.8931\n",
      "Epoch 7/30\n",
      "14328/14328 [==============================] - 74s 5ms/step - loss: 0.0324 - acc: 0.9853 - val_loss: 0.5550 - val_acc: 0.9073\n",
      "Epoch 8/30\n",
      "14328/14328 [==============================] - 74s 5ms/step - loss: 0.0298 - acc: 0.9866 - val_loss: 0.7926 - val_acc: 0.8696\n",
      "Epoch 9/30\n",
      "14328/14328 [==============================] - 77s 5ms/step - loss: 0.0295 - acc: 0.9884 - val_loss: 0.5789 - val_acc: 0.8998\n",
      "Epoch 10/30\n",
      "14328/14328 [==============================] - 77s 5ms/step - loss: 0.0283 - acc: 0.9868 - val_loss: 0.6738 - val_acc: 0.8981\n",
      "Epoch 11/30\n",
      "14328/14328 [==============================] - 78s 5ms/step - loss: 0.0280 - acc: 0.9873 - val_loss: 0.7874 - val_acc: 0.8869\n",
      "Epoch 12/30\n",
      "14328/14328 [==============================] - 76s 5ms/step - loss: 0.0294 - acc: 0.9871 - val_loss: 0.6953 - val_acc: 0.8989\n",
      "Epoch 13/30\n",
      "14328/14328 [==============================] - 79s 6ms/step - loss: 0.0274 - acc: 0.9871 - val_loss: 0.7002 - val_acc: 0.9034\n",
      "Epoch 14/30\n",
      "14328/14328 [==============================] - 80s 6ms/step - loss: 0.0270 - acc: 0.9876 - val_loss: 0.7539 - val_acc: 0.8886\n",
      "Epoch 15/30\n",
      "14328/14328 [==============================] - 80s 6ms/step - loss: 0.0266 - acc: 0.9883 - val_loss: 1.0775 - val_acc: 0.8688\n",
      "Epoch 16/30\n",
      "14328/14328 [==============================] - 75s 5ms/step - loss: 0.0274 - acc: 0.9872 - val_loss: 0.7471 - val_acc: 0.9017\n",
      "Epoch 17/30\n",
      "14328/14328 [==============================] - 84s 6ms/step - loss: 0.0280 - acc: 0.9876 - val_loss: 0.8151 - val_acc: 0.9015\n",
      "Epoch 18/30\n",
      "14328/14328 [==============================] - 78s 5ms/step - loss: 0.0272 - acc: 0.9887 - val_loss: 0.7527 - val_acc: 0.9028\n",
      "Epoch 19/30\n",
      "14328/14328 [==============================] - 78s 5ms/step - loss: 0.0268 - acc: 0.9873 - val_loss: 0.7415 - val_acc: 0.8970\n",
      "Epoch 20/30\n",
      "14328/14328 [==============================] - 77s 5ms/step - loss: 0.0257 - acc: 0.9882 - val_loss: 0.7410 - val_acc: 0.8970\n",
      "Epoch 21/30\n",
      "14328/14328 [==============================] - 75s 5ms/step - loss: 0.0269 - acc: 0.9879 - val_loss: 0.7965 - val_acc: 0.9090\n",
      "Epoch 22/30\n",
      "14328/14328 [==============================] - 73s 5ms/step - loss: 0.0257 - acc: 0.9881 - val_loss: 0.7962 - val_acc: 0.9006\n",
      "Epoch 23/30\n",
      "14328/14328 [==============================] - 73s 5ms/step - loss: 0.0272 - acc: 0.9880 - val_loss: 0.8650 - val_acc: 0.8939\n",
      "Epoch 24/30\n",
      "14328/14328 [==============================] - 73s 5ms/step - loss: 0.0258 - acc: 0.9876 - val_loss: 0.9805 - val_acc: 0.8978\n",
      "Epoch 25/30\n",
      "14328/14328 [==============================] - 73s 5ms/step - loss: 0.0262 - acc: 0.9883 - val_loss: 0.8436 - val_acc: 0.9003\n",
      "Epoch 26/30\n",
      "14328/14328 [==============================] - 73s 5ms/step - loss: 0.0326 - acc: 0.9868 - val_loss: 0.8757 - val_acc: 0.9048\n",
      "Epoch 27/30\n",
      "14328/14328 [==============================] - 73s 5ms/step - loss: 0.0262 - acc: 0.9883 - val_loss: 0.8397 - val_acc: 0.9034\n",
      "Epoch 28/30\n",
      "14328/14328 [==============================] - 73s 5ms/step - loss: 0.0242 - acc: 0.9886 - val_loss: 0.9496 - val_acc: 0.8981\n",
      "Epoch 29/30\n",
      "14328/14328 [==============================] - 73s 5ms/step - loss: 0.0254 - acc: 0.9882 - val_loss: 0.8832 - val_acc: 0.8989\n",
      "Epoch 30/30\n",
      "14328/14328 [==============================] - 73s 5ms/step - loss: 0.0246 - acc: 0.9886 - val_loss: 1.0093 - val_acc: 0.8936\n"
     ]
    }
   ],
   "source": [
    "history1 = model1.fit(x_train, \n",
    "                      y_train,\n",
    "                      epochs=30,\n",
    "                      batch_size=128,\n",
    "                      validation_data=(x_val, y_val))"
   ]
  },
  {
   "cell_type": "markdown",
   "metadata": {},
   "source": [
    "### model 2 加载预训练模型权重"
   ]
  },
  {
   "cell_type": "code",
   "execution_count": 207,
   "metadata": {},
   "outputs": [],
   "source": [
    "def load_pre_trained():\n",
    "    # load pre-trained embedding model\n",
    "    embeddings_index = {}\n",
    "    with open('./sgns.sogou.word') as f:\n",
    "        _, embedding_dim = f.readline().split()    \n",
    "        for line in f:\n",
    "            values = line.split()\n",
    "            word = values[0]\n",
    "            coefs = np.asarray(values[1:], dtype='float32')\n",
    "            embeddings_index[word] = coefs\n",
    "\n",
    "    print('Found %s word vectors, dimension %s' % (len(embeddings_index), embedding_dim))\n",
    "    return embeddings_index"
   ]
  },
  {
   "cell_type": "code",
   "execution_count": 208,
   "metadata": {
    "scrolled": true
   },
   "outputs": [
    {
     "name": "stdout",
     "output_type": "stream",
     "text": [
      "Found 364180 word vectors, dimension 300\n"
     ]
    }
   ],
   "source": [
    "embeddings_index = load_pre_trained()"
   ]
  },
  {
   "cell_type": "code",
   "execution_count": 327,
   "metadata": {},
   "outputs": [],
   "source": [
    "# generate embedding matrix\n",
    "embedding_matrix = np.zeros((MAX_WORDS_NUM+1, EMBEDDING_DIM)) # row 0 for 0\n",
    "for word, i in word_index.items():\n",
    "    embedding_vector = embeddings_index.get(word)\n",
    "    if i < MAX_WORDS_NUM:\n",
    "        if embedding_vector is not None:\n",
    "            # Words not found in embedding index will be all-zeros.\n",
    "            embedding_matrix[i] = embedding_vector"
   ]
  },
  {
   "cell_type": "code",
   "execution_count": 339,
   "metadata": {},
   "outputs": [],
   "source": [
    "# 在第一个模型基础上加载词嵌入矩阵，并将词嵌入矩阵设为不可训练\n",
    "model2 = Sequential()\n",
    "model2.add(Embedding(input_dim=MAX_WORDS_NUM+1, \n",
    "                     output_dim=EMBEDDING_DIM, \n",
    "                     weights=[embedding_matrix],\n",
    "                     input_length=MAX_SEQUENCE_LEN,\n",
    "                     trainable=False))\n",
    "model2.add(Flatten())\n",
    "model2.add(Dense(64, activation='relu', input_shape=(input_dim,)))\n",
    "model2.add(Dense(64, activation='relu'))\n",
    "model2.add(Dense(len(labels_index), activation='softmax'))"
   ]
  },
  {
   "cell_type": "code",
   "execution_count": 340,
   "metadata": {},
   "outputs": [
    {
     "name": "stdout",
     "output_type": "stream",
     "text": [
      "_________________________________________________________________\n",
      "Layer (type)                 Output Shape              Param #   \n",
      "=================================================================\n",
      "embedding_3 (Embedding)      (None, 1000, 300)         6000300   \n",
      "_________________________________________________________________\n",
      "flatten_3 (Flatten)          (None, 300000)            0         \n",
      "_________________________________________________________________\n",
      "dense_7 (Dense)              (None, 64)                19200064  \n",
      "_________________________________________________________________\n",
      "dense_8 (Dense)              (None, 64)                4160      \n",
      "_________________________________________________________________\n",
      "dense_9 (Dense)              (None, 9)                 585       \n",
      "=================================================================\n",
      "Total params: 25,205,109\n",
      "Trainable params: 19,204,809\n",
      "Non-trainable params: 6,000,300\n",
      "_________________________________________________________________\n"
     ]
    }
   ],
   "source": [
    "model2.summary()"
   ]
  },
  {
   "cell_type": "code",
   "execution_count": 341,
   "metadata": {},
   "outputs": [],
   "source": [
    "model2.compile(optimizer='rmsprop',\n",
    "               loss='categorical_crossentropy',\n",
    "               metrics=['accuracy'])"
   ]
  },
  {
   "cell_type": "code",
   "execution_count": 342,
   "metadata": {},
   "outputs": [
    {
     "name": "stdout",
     "output_type": "stream",
     "text": [
      "Train on 14328 samples, validate on 3582 samples\n",
      "Epoch 1/10\n",
      "14328/14328 [==============================] - 36s 2ms/step - loss: 1.4167 - acc: 0.6799 - val_loss: 0.6633 - val_acc: 0.7984\n",
      "Epoch 2/10\n",
      "14328/14328 [==============================] - 38s 3ms/step - loss: 0.2968 - acc: 0.9234 - val_loss: 0.6250 - val_acc: 0.8409\n",
      "Epoch 3/10\n",
      "14328/14328 [==============================] - 36s 3ms/step - loss: 0.1220 - acc: 0.9698 - val_loss: 0.6039 - val_acc: 0.8590\n",
      "Epoch 4/10\n",
      "14328/14328 [==============================] - 36s 3ms/step - loss: 0.0720 - acc: 0.9795 - val_loss: 0.6405 - val_acc: 0.8610\n",
      "Epoch 5/10\n",
      "14328/14328 [==============================] - 36s 3ms/step - loss: 0.0625 - acc: 0.9828 - val_loss: 0.9981 - val_acc: 0.8319\n",
      "Epoch 6/10\n",
      "14328/14328 [==============================] - 36s 2ms/step - loss: 0.0603 - acc: 0.9833 - val_loss: 0.8529 - val_acc: 0.8518\n",
      "Epoch 7/10\n",
      "14328/14328 [==============================] - 40s 3ms/step - loss: 0.0486 - acc: 0.9863 - val_loss: 0.7012 - val_acc: 0.8727\n",
      "Epoch 8/10\n",
      "14328/14328 [==============================] - 41s 3ms/step - loss: 0.0460 - acc: 0.9860 - val_loss: 0.9048 - val_acc: 0.8551\n",
      "Epoch 9/10\n",
      "14328/14328 [==============================] - 37s 3ms/step - loss: 0.0517 - acc: 0.9844 - val_loss: 0.9132 - val_acc: 0.8599\n",
      "Epoch 10/10\n",
      "14328/14328 [==============================] - 39s 3ms/step - loss: 0.0477 - acc: 0.9858 - val_loss: 0.8896 - val_acc: 0.8671\n"
     ]
    }
   ],
   "source": [
    "history2 = model2.fit(x_train, \n",
    "                      y_train,\n",
    "                      epochs=10,\n",
    "                      batch_size=128,\n",
    "                      validation_data=(x_val, y_val))"
   ]
  },
  {
   "cell_type": "markdown",
   "metadata": {},
   "source": [
    "### model 3 使用CNN进行文本分类"
   ]
  },
  {
   "cell_type": "code",
   "execution_count": 343,
   "metadata": {},
   "outputs": [],
   "source": [
    "from keras.layers import Conv1D, MaxPooling1D, Flatten"
   ]
  },
  {
   "cell_type": "code",
   "execution_count": 344,
   "metadata": {},
   "outputs": [],
   "source": [
    "embedding_layer = Embedding(input_dim=MAX_WORDS_NUM+1,\n",
    "                            output_dim=EMBEDDING_DIM,\n",
    "                            weights=[embedding_matrix],\n",
    "                            input_length=MAX_SEQUENCE_LEN,\n",
    "                            trainable=False)"
   ]
  },
  {
   "cell_type": "code",
   "execution_count": 345,
   "metadata": {},
   "outputs": [],
   "source": [
    "sequence_input = Input(shape=(MAX_SEQUENCE_LEN, ), dtype='int32')\n",
    "embedded_sequences = embedding_layer(sequence_input)"
   ]
  },
  {
   "cell_type": "code",
   "execution_count": 348,
   "metadata": {},
   "outputs": [],
   "source": [
    "x = Conv1D(128, 5, activation='relu')(embedded_sequences)\n",
    "x = MaxPooling1D(5)(x)\n",
    "x = Conv1D(128, 5, activation='relu')(x)\n",
    "x = MaxPooling1D(5)(x)\n",
    "x = Conv1D(128, 5, activation='relu')(x)\n",
    "x = MaxPooling1D(35)(x)  # global max pooling\n",
    "x = Flatten()(x)\n",
    "x = Dense(128, activation='relu')(x)\n",
    "preds = Dense(len(labels_index), activation='softmax')(x)"
   ]
  },
  {
   "cell_type": "code",
   "execution_count": 349,
   "metadata": {},
   "outputs": [],
   "source": [
    "model3 = Model(sequence_input, preds)"
   ]
  },
  {
   "cell_type": "code",
   "execution_count": 350,
   "metadata": {
    "scrolled": false
   },
   "outputs": [
    {
     "name": "stdout",
     "output_type": "stream",
     "text": [
      "_________________________________________________________________\n",
      "Layer (type)                 Output Shape              Param #   \n",
      "=================================================================\n",
      "input_1 (InputLayer)         (None, 1000)              0         \n",
      "_________________________________________________________________\n",
      "embedding_4 (Embedding)      (None, 1000, 300)         6000300   \n",
      "_________________________________________________________________\n",
      "conv1d_4 (Conv1D)            (None, 996, 128)          192128    \n",
      "_________________________________________________________________\n",
      "max_pooling1d_4 (MaxPooling1 (None, 199, 128)          0         \n",
      "_________________________________________________________________\n",
      "conv1d_5 (Conv1D)            (None, 195, 128)          82048     \n",
      "_________________________________________________________________\n",
      "max_pooling1d_5 (MaxPooling1 (None, 39, 128)           0         \n",
      "_________________________________________________________________\n",
      "conv1d_6 (Conv1D)            (None, 35, 128)           82048     \n",
      "_________________________________________________________________\n",
      "max_pooling1d_6 (MaxPooling1 (None, 1, 128)            0         \n",
      "_________________________________________________________________\n",
      "flatten_5 (Flatten)          (None, 128)               0         \n",
      "_________________________________________________________________\n",
      "dense_11 (Dense)             (None, 128)               16512     \n",
      "_________________________________________________________________\n",
      "dense_12 (Dense)             (None, 9)                 1161      \n",
      "=================================================================\n",
      "Total params: 6,374,197\n",
      "Trainable params: 373,897\n",
      "Non-trainable params: 6,000,300\n",
      "_________________________________________________________________\n"
     ]
    }
   ],
   "source": [
    "model3.summary()"
   ]
  },
  {
   "cell_type": "code",
   "execution_count": 351,
   "metadata": {},
   "outputs": [],
   "source": [
    "model3.compile(loss='categorical_crossentropy',\n",
    "               optimizer='rmsprop',\n",
    "               metrics=['acc'])"
   ]
  },
  {
   "cell_type": "code",
   "execution_count": 352,
   "metadata": {},
   "outputs": [
    {
     "name": "stdout",
     "output_type": "stream",
     "text": [
      "Train on 14328 samples, validate on 3582 samples\n",
      "Epoch 1/10\n",
      "14328/14328 [==============================] - 299s 21ms/step - loss: 1.0102 - acc: 0.6692 - val_loss: 0.4984 - val_acc: 0.8632\n",
      "Epoch 2/10\n",
      "14328/14328 [==============================] - 300s 21ms/step - loss: 0.4830 - acc: 0.8592 - val_loss: 0.4404 - val_acc: 0.8682\n",
      "Epoch 3/10\n",
      "14328/14328 [==============================] - 302s 21ms/step - loss: 0.3531 - acc: 0.8910 - val_loss: 0.3636 - val_acc: 0.8900\n",
      "Epoch 4/10\n",
      "14328/14328 [==============================] - 304s 21ms/step - loss: 0.2728 - acc: 0.9119 - val_loss: 0.4350 - val_acc: 0.8721\n",
      "Epoch 5/10\n",
      "14328/14328 [==============================] - 301s 21ms/step - loss: 0.2159 - acc: 0.9268 - val_loss: 0.3523 - val_acc: 0.8925\n",
      "Epoch 6/10\n",
      "14328/14328 [==============================] - 303s 21ms/step - loss: 0.1653 - acc: 0.9432 - val_loss: 0.3387 - val_acc: 0.8992\n",
      "Epoch 7/10\n",
      "14328/14328 [==============================] - 302s 21ms/step - loss: 0.1286 - acc: 0.9540 - val_loss: 0.5655 - val_acc: 0.8607\n",
      "Epoch 8/10\n",
      "14328/14328 [==============================] - 300s 21ms/step - loss: 0.1048 - acc: 0.9638 - val_loss: 0.4838 - val_acc: 0.8822\n",
      "Epoch 9/10\n",
      "14328/14328 [==============================] - 302s 21ms/step - loss: 0.0819 - acc: 0.9703 - val_loss: 1.0261 - val_acc: 0.8199\n",
      "Epoch 10/10\n",
      "14328/14328 [==============================] - 303s 21ms/step - loss: 0.0789 - acc: 0.9740 - val_loss: 0.4246 - val_acc: 0.9070\n"
     ]
    }
   ],
   "source": [
    "history3 = model3.fit(x_train, \n",
    "                      y_train,\n",
    "                      epochs=10,\n",
    "                      batch_size=128,\n",
    "                      validation_data=(x_val, y_val))"
   ]
  },
  {
   "cell_type": "markdown",
   "metadata": {},
   "source": [
    "## 模型评估与比较"
   ]
  },
  {
   "cell_type": "code",
   "execution_count": 377,
   "metadata": {},
   "outputs": [],
   "source": [
    "def plot_history(history):\n",
    "    acc = history.history['acc']\n",
    "    val_acc = history.history['val_acc']\n",
    "    loss = history.history['loss']\n",
    "    val_loss = history.history['val_loss']\n",
    "    x = range(1, len(acc) + 1)\n",
    "\n",
    "    plt.figure(figsize=(12, 5))\n",
    "    plt.subplot(1, 2, 1)\n",
    "    plt.plot(x, acc, 'b', label='Training acc')\n",
    "    plt.plot(x, val_acc, 'r', label='Validation acc')\n",
    "    plt.title('Training and validation accuracy')\n",
    "    plt.legend()\n",
    "    plt.subplot(1, 2, 2)\n",
    "    plt.plot(x, loss, 'b', label='Training loss')\n",
    "    plt.plot(x, val_loss, 'r', label='Validation loss')\n",
    "    plt.title('Training and validation loss')\n",
    "    plt.legend()"
   ]
  },
  {
   "cell_type": "code",
   "execution_count": 378,
   "metadata": {},
   "outputs": [
    {
     "data": {
      "image/png": "[encoded data removed]",
      "text/plain": [
       "<Figure size 864x360 with 2 Axes>"
      ]
     },
     "metadata": {
      "needs_background": "light"
     },
     "output_type": "display_data"
    }
   ],
   "source": [
    "plot_history(history1)"
   ]
  },
  {
   "cell_type": "code",
   "execution_count": 379,
   "metadata": {},
   "outputs": [
    {
     "data": {
      "image/png": "[encoded data removed]",
      "text/plain": [
       "<Figure size 864x360 with 2 Axes>"
      ]
     },
     "metadata": {
      "needs_background": "light"
     },
     "output_type": "display_data"
    }
   ],
   "source": [
    "plot_history(history2)"
   ]
  },
  {
   "cell_type": "code",
   "execution_count": 380,
   "metadata": {},
   "outputs": [
    {
     "data": {
      "image/png": "[encoded data removed]",
      "text/plain": [
       "<Figure size 864x360 with 2 Axes>"
      ]
     },
     "metadata": {
      "needs_background": "light"
     },
     "output_type": "display_data"
    }
   ],
   "source": [
    "plot_history(history3)"
   ]
  },
  {
   "cell_type": "code",
   "execution_count": null,
   "metadata": {},
   "outputs": [],
   "source": []
  }
 ],
 "metadata": {
  "kernelspec": {
   "display_name": "Python 3",
   "language": "python",
   "name": "python3"
  },
  "language_info": {
   "codemirror_mode": {
    "name": "ipython",
    "version": 3
   },
   "file_extension": ".py",
   "mimetype": "text/x-python",
   "name": "python",
   "nbconvert_exporter": "python",
   "pygments_lexer": "ipython3",
   "version": "3.6.8"
  },
  "toc": {
   "base_numbering": 1,
   "nav_menu": {},
   "number_sections": true,
   "sideBar": true,
   "skip_h1_title": false,
   "title_cell": "Table of Contents",
   "title_sidebar": "Contents",
   "toc_cell": false,
   "toc_position": {
    "height": "calc(100% - 180px)",
    "left": "10px",
    "top": "150px",
    "width": "165px"
   },
   "toc_section_display": true,
   "toc_window_display": true
  }
 },
 "nbformat": 4,
 "nbformat_minor": 2
}
